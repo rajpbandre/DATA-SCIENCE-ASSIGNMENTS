{
  "nbformat": 4,
  "nbformat_minor": 0,
  "metadata": {
    "colab": {
      "provenance": []
    },
    "kernelspec": {
      "name": "python3",
      "display_name": "Python 3"
    },
    "language_info": {
      "name": "python"
    }
  },
  "cells": [
    {
      "cell_type": "code",
      "source": [
        "# @title CHI-SQUARE TEST\n",
        "import pandas as pd\n",
        "from scipy.stats import chi2_contingency, chi2 #import libraries"
      ],
      "metadata": {
        "id": "a_n2O6B2yve2"
      },
      "execution_count": 53,
      "outputs": []
    },
    {
      "cell_type": "code",
      "source": [
        "data = pd.DataFrame({\n",
        "    'Satisfaction': ['Very Satisfied', 'Satisfied', 'Neutral', 'Unsatisfied', 'Very Unsatisfied',\n",
        "                     'Very Satisfied', 'Satisfied', 'Neutral', 'Unsatisfied', 'Very Unsatisfied'],\n",
        "    'Device': ['Smart Thermostat', 'Smart Thermostat', 'Smart Thermostat', 'Smart Thermostat', 'Smart Thermostat',\n",
        "               'Smart Light', 'Smart Light', 'Smart Light', 'Smart Light', 'Smart Light'],\n",
        "    'Count': [50, 80, 60, 30, 20, 70, 100, 90, 50, 50]\n",
        "}) #data"
      ],
      "metadata": {
        "id": "FyabRfb-xVLv"
      },
      "execution_count": 54,
      "outputs": []
    },
    {
      "cell_type": "code",
      "source": [
        "print(\"Hypotheses:\")\n",
        "print(\"H0: There is no significant association between the type of smart home device and customer satisfaction.\")\n",
        "print(\"H1: There is a significant association between the type of smart home device and customer satisfaction.\")\n",
        "#1.State the Hypotheses"
      ],
      "metadata": {
        "colab": {
          "base_uri": "https://localhost:8080/"
        },
        "id": "-lAi-fUuydTJ",
        "outputId": "221c0f18-1cc4-4b0e-ff18-4672577bafa0"
      },
      "execution_count": 55,
      "outputs": [
        {
          "output_type": "stream",
          "name": "stdout",
          "text": [
            "Hypotheses:\n",
            "H0: There is no significant association between the type of smart home device and customer satisfaction.\n",
            "H1: There is a significant association between the type of smart home device and customer satisfaction.\n"
          ]
        }
      ]
    },
    {
      "cell_type": "code",
      "source": [
        "contingency_table = pd.pivot_table(data, values='Count', index='Satisfaction', columns='Device', aggfunc='sum')\n",
        "print(\"\\nContingency Table:\")\n",
        "print(contingency_table)\n",
        " #  create table"
      ],
      "metadata": {
        "colab": {
          "base_uri": "https://localhost:8080/"
        },
        "id": "e6wCKM9bzFA6",
        "outputId": "063d049b-0832-4f3e-f2c1-87024588a9c1"
      },
      "execution_count": 56,
      "outputs": [
        {
          "output_type": "stream",
          "name": "stdout",
          "text": [
            "\n",
            "Contingency Table:\n",
            "Device            Smart Light  Smart Thermostat\n",
            "Satisfaction                                   \n",
            "Neutral                    90                60\n",
            "Satisfied                 100                80\n",
            "Unsatisfied                50                30\n",
            "Very Satisfied             70                50\n",
            "Very Unsatisfied           50                20\n"
          ]
        }
      ]
    },
    {
      "cell_type": "code",
      "source": [
        "chi2_stat, p, dof, expected = chi2_contingency(contingency_table)\n",
        "\n",
        "print(\"\\nChi-Square Statistic:\", chi2_stat)\n",
        "print(\"p-value:\", p)\n",
        "print(\"Degrees of Freedom:\", dof)\n",
        "#2.Compute the Chi-Square Statistic"
      ],
      "metadata": {
        "colab": {
          "base_uri": "https://localhost:8080/"
        },
        "id": "eKXbmzjfzQjI",
        "outputId": "4ee7e5d5-88c2-4fca-9582-5d81f40264d0"
      },
      "execution_count": 57,
      "outputs": [
        {
          "output_type": "stream",
          "name": "stdout",
          "text": [
            "\n",
            "Chi-Square Statistic: 5.638227513227513\n",
            "p-value: 0.22784371130697179\n",
            "Degrees of Freedom: 4\n"
          ]
        }
      ]
    },
    {
      "cell_type": "code",
      "source": [
        "alpha = 0.05\n",
        "critical_value = chi2.isf(alpha, dof)\n",
        "\n",
        "print(\"\\nCritical Value:\", critical_value)\n",
        "#Critical Value"
      ],
      "metadata": {
        "colab": {
          "base_uri": "https://localhost:8080/"
        },
        "id": "umAPKaUZzRZp",
        "outputId": "bc1f579a-e973-4dcf-ba3e-c261af00cfe8"
      },
      "execution_count": 58,
      "outputs": [
        {
          "output_type": "stream",
          "name": "stdout",
          "text": [
            "\n",
            "Critical Value: 9.487729036781158\n"
          ]
        }
      ]
    },
    {
      "cell_type": "code",
      "source": [
        "print(\"\\nDecision:\")\n",
        "if chi2_stat > critical_value:\n",
        "    print(\"Reject H0: There is a significant association between the type of smart home device and customer satisfaction.\")\n",
        "else:\n",
        "    print(\"Fail to reject H0: There is no significant association between the type of smart home device and customer satisfaction.\")\n",
        "#conclusion"
      ],
      "metadata": {
        "colab": {
          "base_uri": "https://localhost:8080/"
        },
        "id": "yhEMbA5lzXKk",
        "outputId": "22d1db88-e985-4a59-8b0e-7aff7a81c709"
      },
      "execution_count": 59,
      "outputs": [
        {
          "output_type": "stream",
          "name": "stdout",
          "text": [
            "\n",
            "Decision:\n",
            "Fail to reject H0: There is no significant association between the type of smart home device and customer satisfaction.\n"
          ]
        }
      ]
    },
    {
      "cell_type": "code",
      "source": [
        "# The p-value (0.228) is greater than the significance level (0.05)\n",
        "# The Chi-Square statistic (5.638) is not significant at the 0.05 level\n",
        "#Customer satisfaction levels do not differ significantly between Smart Thermostats and Smart Lights"
      ],
      "metadata": {
        "id": "NZlGI0SG20QT"
      },
      "execution_count": 60,
      "outputs": []
    },
    {
      "cell_type": "code",
      "source": [
        "# @title HYPOTHESIS TESTING\n",
        "import numpy as np\n",
        "from scipy.stats import t #import libraries"
      ],
      "metadata": {
        "id": "_4BdTDBv89bW"
      },
      "execution_count": 4,
      "outputs": []
    },
    {
      "cell_type": "code",
      "source": [
        "print(\"Hypotheses:\")\n",
        "print(\"H0: μ = 1,000 + 5*600 (No increase in weekly operating costs)\")\n",
        "print(\"H1: μ > 1,000 + 5*600 (Increase in weekly operating costs)\") # 1.State the Hypotheses"
      ],
      "metadata": {
        "colab": {
          "base_uri": "https://localhost:8080/"
        },
        "id": "U002la-OGsdw",
        "outputId": "4e62145f-9158-44a7-b34a-d18a06e57148"
      },
      "execution_count": 5,
      "outputs": [
        {
          "output_type": "stream",
          "name": "stdout",
          "text": [
            "Hypotheses:\n",
            "H0: μ = 1,000 + 5*600 (No increase in weekly operating costs)\n",
            "H1: μ > 1,000 + 5*600 (Increase in weekly operating costs)\n"
          ]
        }
      ]
    },
    {
      "cell_type": "code",
      "source": [
        "theoretical_mean = 1000 + 5*600\n",
        "print(\"\\nTheoretical Mean Weekly Cost: $\", theoretical_mean) # Theoretical mean weekly cost\n",
        "\n",
        "\n",
        "sample_mean = 3050\n",
        "sample_size = 25\n",
        "population_std_dev = 5*25 # Sample data given"
      ],
      "metadata": {
        "colab": {
          "base_uri": "https://localhost:8080/"
        },
        "id": "7GIgykchHogj",
        "outputId": "1efd3342-797f-4aa7-a52b-f2c2bec3d003"
      },
      "execution_count": 6,
      "outputs": [
        {
          "output_type": "stream",
          "name": "stdout",
          "text": [
            "\n",
            "Theoretical Mean Weekly Cost: $ 4000\n"
          ]
        }
      ]
    },
    {
      "cell_type": "code",
      "source": [
        "test_statistic = (sample_mean - theoretical_mean) / (population_std_dev / np.sqrt(sample_size))\n",
        "print(\"\\nTest Statistic (t):\", test_statistic) # 2.Calculate the Test Statistic"
      ],
      "metadata": {
        "colab": {
          "base_uri": "https://localhost:8080/"
        },
        "id": "UB9z8umgHwji",
        "outputId": "8758be90-8ff1-405f-8f7e-6d2f8c9d3385"
      },
      "execution_count": 7,
      "outputs": [
        {
          "output_type": "stream",
          "name": "stdout",
          "text": [
            "\n",
            "Test Statistic (t): -38.0\n"
          ]
        }
      ]
    },
    {
      "cell_type": "code",
      "source": [
        "alpha = 0.05\n",
        "degrees_of_freedom = sample_size - 1\n",
        "critical_value = t.ppf(1 - alpha, degrees_of_freedom)\n",
        "print(\"\\nCritical Value (t):\", critical_value) # 3. Critical Value"
      ],
      "metadata": {
        "colab": {
          "base_uri": "https://localhost:8080/"
        },
        "id": "VpSqxGNPICiS",
        "outputId": "0618ba98-9369-46fa-ff69-56cd79f9cd20"
      },
      "execution_count": 8,
      "outputs": [
        {
          "output_type": "stream",
          "name": "stdout",
          "text": [
            "\n",
            "Critical Value (t): 1.7108820799094275\n"
          ]
        }
      ]
    },
    {
      "cell_type": "code",
      "source": [
        "if test_statistic > critical_value:\n",
        "    print(\"\\nReject H0: There is strong evidence to support the restaurant owners' claim.\")\n",
        "else:\n",
        "    print(\"\\nFail to reject H0: No strong evidence to support the restaurant owners' claim.\") # 4.Make a Decision"
      ],
      "metadata": {
        "colab": {
          "base_uri": "https://localhost:8080/"
        },
        "id": "RFv2-lI-IUfG",
        "outputId": "28539618-6116-418c-e6e9-49e9e2148385"
      },
      "execution_count": 9,
      "outputs": [
        {
          "output_type": "stream",
          "name": "stdout",
          "text": [
            "\n",
            "Fail to reject H0: No strong evidence to support the restaurant owners' claim.\n"
          ]
        }
      ]
    },
    {
      "cell_type": "code",
      "source": [
        "if test_statistic > critical_value:\n",
        "    print(\"\\nConclusion: The weekly operating costs are higher than the model suggests.\")\n",
        "else:\n",
        "    print(\"\\nConclusion: The weekly operating costs are consistent with the model.\") # 5.Conclusion"
      ],
      "metadata": {
        "colab": {
          "base_uri": "https://localhost:8080/"
        },
        "id": "KqrjjGxRIdMh",
        "outputId": "026a53ce-6373-4784-a218-bd89acfb4bfd"
      },
      "execution_count": 10,
      "outputs": [
        {
          "output_type": "stream",
          "name": "stdout",
          "text": [
            "\n",
            "Conclusion: The weekly operating costs are consistent with the model.\n"
          ]
        }
      ]
    },
    {
      "cell_type": "code",
      "source": [
        "#Since the Test Statistic (t) value (-38.0) is less than the Critical Value (1.711), we fail to reject the null hypothesis (H0). This suggests:\n",
        "\n",
        "#1. No significant evidence supports the claim of increased weekly operating costs.\n",
        "#2. The actual costs are consistent with the theoretical model."
      ],
      "metadata": {
        "id": "SY_2vrFLIz1B"
      },
      "execution_count": null,
      "outputs": []
    },
    {
      "cell_type": "code",
      "source": [
        "#THANK YOU !!!"
      ],
      "metadata": {
        "id": "T1-z4ROUL1y2"
      },
      "execution_count": null,
      "outputs": []
    }
  ]
}