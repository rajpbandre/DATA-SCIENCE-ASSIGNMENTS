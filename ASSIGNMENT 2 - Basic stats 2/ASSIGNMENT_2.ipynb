{
  "nbformat": 4,
  "nbformat_minor": 0,
  "metadata": {
    "colab": {
      "provenance": []
    },
    "kernelspec": {
      "name": "python3",
      "display_name": "Python 3"
    },
    "language_info": {
      "name": "python"
    }
  },
  "cells": [
    {
      "cell_type": "code",
      "execution_count": 5,
      "metadata": {
        "id": "u2Q9r8rwgeOh"
      },
      "outputs": [],
      "source": [
        "# @title IMPORTANT LIBRARIES IMPORTED\n",
        "import numpy as np\n",
        "from scipy import stats #import libraries"
      ]
    },
    {
      "cell_type": "code",
      "source": [
        "# @title ASSIGNMENT TASK A\n",
        "#Build 99% Confidence Interval Using Sample Standard Deviation(t-Value)\n",
        "\n",
        "data = [1.13, 1.55, 1.43, 0.92, 1.25, 1.36, 1.32, 0.85, 1.07, 1.48, 1.20, 1.33, 1.18, 1.22, 1.29] #sample data\n",
        "x_bar = np.mean(data) #sample mean\n",
        "s = np.std(data, ddof=1) #sample standard deviation\n",
        "n = len(data) #sample size\n",
        "alpha = 0.01 #significance level\n",
        "df = n - 1 #degree of freedom\n",
        "t_crit = stats.t.ppf(1 - alpha/2, df) #critical t-value\n",
        "E = t_crit * (s / np.sqrt(n)) #margin of error\n",
        "interval = (x_bar - E, x_bar + E) #confidence interval\n",
        "print(interval)"
      ],
      "metadata": {
        "colab": {
          "base_uri": "https://localhost:8080/"
        },
        "id": "brnTauHphK3A",
        "outputId": "529b51da-8c3e-426b-a5ca-045d8e9ee917"
      },
      "execution_count": 10,
      "outputs": [
        {
          "output_type": "stream",
          "name": "stdout",
          "text": [
            "(1.0901973384384906, 1.3871359948948425)\n"
          ]
        }
      ]
    },
    {
      "cell_type": "code",
      "source": [
        "#STEPS:\n",
        "#1.Calculate Sample Statistics\n",
        "#2.Choose Alpha and Degrees of Freedom\n",
        "#3.Find Critical t-Value\n",
        "#4.Calculate Margin of Error\n",
        "#5.Calculate Confidence Interval\n",
        "\n",
        "#the rationale behind using the t-distribution for this task:\n",
        "# because the population standard deviation is unknown,\n",
        "\n",
        "\n",
        "#99% confidence interval lies between 1.0901 million and 1.3871 million\n",
        "\n"
      ],
      "metadata": {
        "id": "l461q2cRhTrA"
      },
      "execution_count": 7,
      "outputs": []
    },
    {
      "cell_type": "code",
      "source": [
        "# @title ASSIGNMENT TASK B\n",
        "#Build 99% Confidence Interval Using Known Population Standard Deviation(z-Value)\n",
        "\n",
        "data = [1.13, 1.55, 1.43, 0.92, 1.25, 1.36, 1.32, 0.85, 1.07, 1.48, 1.20, 1.33, 1.18, 1.22, 1.29] #SAMPLE DATA\n",
        "x_bar = np.mean(data) #SAMPLE MEAN\n",
        "sigma = 0.2 #KNOWN POPULATION STANDARD DEVIATION\n",
        "n = len(data) #SAMPLE SIZE\n",
        "alpha = 0.01 #SIGNIFICANCE LEVEL\n",
        "z_crit = np.percentile(np.random.normal(0, 1, 10000), 99.5) #CRITICAL Z-VALUE\n",
        "E = z_crit * (sigma / np.sqrt(n)) #MARGIN ERROR\n",
        "interval = (x_bar - E, x_bar + E) #CONFIDENCE INTERVAL\n",
        "print(interval)\n",
        "\n"
      ],
      "metadata": {
        "colab": {
          "base_uri": "https://localhost:8080/"
        },
        "id": "k81LsNnglrtZ",
        "outputId": "8205fb52-83d2-4931-d145-980d194d19f7"
      },
      "execution_count": 11,
      "outputs": [
        {
          "output_type": "stream",
          "name": "stdout",
          "text": [
            "(1.1096885328346546, 1.3676448004986785)\n"
          ]
        }
      ]
    },
    {
      "cell_type": "code",
      "source": [
        "#STEPS:\n",
        "#1.Calculate Standard Error\n",
        "#2.Find Critical Z-Value\n",
        "#3.Calculate Margin of Error\n",
        "#4.Construct Confidence Interval\n",
        "\n",
        "\n",
        "#the rationale behind using the Z-distribution for this task:\n",
        "# because the population standard deviation is known\n",
        "\n",
        "\n",
        "\n"
      ],
      "metadata": {
        "id": "zcznnR6emkZr"
      },
      "execution_count": 9,
      "outputs": []
    },
    {
      "cell_type": "code",
      "source": [
        "#THANK YOU !!"
      ],
      "metadata": {
        "id": "AboYlL2GpQSD"
      },
      "execution_count": null,
      "outputs": []
    }
  ]
}