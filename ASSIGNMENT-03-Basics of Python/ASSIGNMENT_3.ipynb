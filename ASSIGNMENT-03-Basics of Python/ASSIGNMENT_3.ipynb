{
  "nbformat": 4,
  "nbformat_minor": 0,
  "metadata": {
    "colab": {
      "provenance": []
    },
    "kernelspec": {
      "name": "python3",
      "display_name": "Python 3"
    },
    "language_info": {
      "name": "python"
    }
  },
  "cells": [
    {
      "cell_type": "code",
      "execution_count": 18,
      "metadata": {
        "colab": {
          "base_uri": "https://localhost:8080/"
        },
        "id": "NXqeGwdYzefa",
        "outputId": "6f56cd72-719b-4c3b-b84e-05235690d761"
      },
      "outputs": [
        {
          "output_type": "stream",
          "name": "stdout",
          "text": [
            "Enter a number: 7\n",
            "7 is a prime number.\n"
          ]
        }
      ],
      "source": [
        "# @title 1.PRIME NUMBER\n",
        "def is_prime(n):\n",
        "    divisors = [i for i in range(2, n) if n % i == 0]\n",
        "    return len(divisors) == 0\n",
        "\n",
        "\n",
        "num = int(input(\"Enter a number: \"))\n",
        "print(f\"{num} is {'a prime' if is_prime(num) else 'not a prime'} number.\")\n",
        "#prime number is a natural number greater than 1\n",
        "#that has no positive divisors other than 1 and itself"
      ]
    },
    {
      "cell_type": "code",
      "source": [
        "# @title 2.Product of Random Numbers\n",
        "import random # import the random module\n",
        "num1 = random.randint(1, 10)\n",
        "num2 = random.randint(1, 10) # generate two random numbers\n",
        "\n",
        "user_answer = input(f\"What is {num1} * {num2}? \") # ask user for the product\n",
        "\n",
        "try:\n",
        "    if int(user_answer) == num1 * num2:\n",
        "        print(\"Correct!\") # check if the users answer is correct\n",
        "    else:\n",
        "        print(f\"Incorrect answer, the correct answer is {num1 * num2}.\") # if the user answer is incorrect then provide the correct answer\n",
        "except ValueError:\n",
        "    print(\"Invalid input. Please enter a number.\") # only numerical values are considerd , other values are invalid"
      ],
      "metadata": {
        "colab": {
          "base_uri": "https://localhost:8080/"
        },
        "id": "2asWJAlVARaN",
        "outputId": "a40f14ca-3ee8-4d9c-9f94-9c8729e034d9"
      },
      "execution_count": 19,
      "outputs": [
        {
          "output_type": "stream",
          "name": "stdout",
          "text": [
            "What is 2 * 2? 7\n",
            "Incorrect answer, the correct answer is 4.\n"
          ]
        }
      ]
    },
    {
      "cell_type": "code",
      "source": [
        "# @title 3.Squares of even/odd numbers\n",
        "\n",
        "def print_squares(start, end): # Choose even numbers\n",
        "    print(\"Even numbers:\")\n",
        "    for num in range(start, end + 1):\n",
        "        if num % 2 == 0:  # Check if number is even\n",
        "            print(f\"{num}^2 = {num ** 2}\")\n",
        "\n",
        "\n",
        "# Usage\n",
        "start_range = 100\n",
        "end_range = 200\n",
        "print_squares(start_range, end_range)\n",
        "\n",
        "#To print squares of odd numbers instead\n",
        "# Replace num % 2 == 0 with num % 2 != 0.\n"
      ],
      "metadata": {
        "id": "cmT8xss7B6He",
        "colab": {
          "base_uri": "https://localhost:8080/"
        },
        "outputId": "1633a23a-80db-4f24-a5d1-9e53318dd6f3"
      },
      "execution_count": 22,
      "outputs": [
        {
          "output_type": "stream",
          "name": "stdout",
          "text": [
            "Even numbers:\n",
            "100^2 = 10000\n",
            "102^2 = 10404\n",
            "104^2 = 10816\n",
            "106^2 = 11236\n",
            "108^2 = 11664\n",
            "110^2 = 12100\n",
            "112^2 = 12544\n",
            "114^2 = 12996\n",
            "116^2 = 13456\n",
            "118^2 = 13924\n",
            "120^2 = 14400\n",
            "122^2 = 14884\n",
            "124^2 = 15376\n",
            "126^2 = 15876\n",
            "128^2 = 16384\n",
            "130^2 = 16900\n",
            "132^2 = 17424\n",
            "134^2 = 17956\n",
            "136^2 = 18496\n",
            "138^2 = 19044\n",
            "140^2 = 19600\n",
            "142^2 = 20164\n",
            "144^2 = 20736\n",
            "146^2 = 21316\n",
            "148^2 = 21904\n",
            "150^2 = 22500\n",
            "152^2 = 23104\n",
            "154^2 = 23716\n",
            "156^2 = 24336\n",
            "158^2 = 24964\n",
            "160^2 = 25600\n",
            "162^2 = 26244\n",
            "164^2 = 26896\n",
            "166^2 = 27556\n",
            "168^2 = 28224\n",
            "170^2 = 28900\n",
            "172^2 = 29584\n",
            "174^2 = 30276\n",
            "176^2 = 30976\n",
            "178^2 = 31684\n",
            "180^2 = 32400\n",
            "182^2 = 33124\n",
            "184^2 = 33856\n",
            "186^2 = 34596\n",
            "188^2 = 35344\n",
            "190^2 = 36100\n",
            "192^2 = 36864\n",
            "194^2 = 37636\n",
            "196^2 = 38416\n",
            "198^2 = 39204\n",
            "200^2 = 40000\n"
          ]
        }
      ]
    },
    {
      "cell_type": "code",
      "source": [
        "# @title 4.Word Counter\n",
        "def count_words(input_text):\n",
        "    words = input_text.lower().split()  # Split text into words\n",
        "    word_counts = {}  #store word counts\n",
        "\n",
        "    for word in words:\n",
        "        word = ''.join(e for e in word if e.isalnum())\n",
        "        word_counts[word] = word_counts.get(word, 0) + 1\n",
        "    # Count occurrences of each word\n",
        "\n",
        "    for word, count in word_counts.items():\n",
        "        print(f\"'{word}': {count}\") # Print word counts\n",
        "\n",
        "\n",
        "input_text = \"This is a sample text. This text will be used to demonstrate the word counter.\"\n",
        "count_words(input_text) # usage"
      ],
      "metadata": {
        "colab": {
          "base_uri": "https://localhost:8080/"
        },
        "id": "r_OgXC8L93Ua",
        "outputId": "52eeab01-e093-4d83-860d-d400d5eb0b68"
      },
      "execution_count": 4,
      "outputs": [
        {
          "output_type": "stream",
          "name": "stdout",
          "text": [
            "'this': 2\n",
            "'is': 1\n",
            "'a': 1\n",
            "'sample': 1\n",
            "'text': 2\n",
            "'will': 1\n",
            "'be': 1\n",
            "'used': 1\n",
            "'to': 1\n",
            "'demonstrate': 1\n",
            "'the': 1\n",
            "'word': 1\n",
            "'counter': 1\n"
          ]
        }
      ]
    },
    {
      "cell_type": "code",
      "source": [
        "# @title 5.Check for Palindrome\n",
        "def is_palindrome(s):\n",
        "    s = ''.join(c for c in s if c.isalnum()).lower()  # Remove spaces and punctuation\n",
        "    left, right = 0, len(s) - 1 # Initialize two pointers\n",
        "\n",
        "    while left < right:\n",
        "        if s[left] != s[right]:  # Compare from both ends\n",
        "            return False\n",
        "        left += 1\n",
        "        right -= 1\n",
        "\n",
        "    return True\n",
        "\n",
        "\n",
        "print(is_palindrome(\"hello\"))  # False\n",
        "print(is_palindrome(\"radar\"))  # True\n",
        "print(is_palindrome(\"was it a car or a cat i saw!!\")) #ignores spaces and punctuation\n",
        "print(is_palindrome(\"12321\")) #numerical values included\n",
        "\n",
        "#A palindrome is a word, phrase, number, or other sequence of characters that reads the same forward and backward."
      ],
      "metadata": {
        "colab": {
          "base_uri": "https://localhost:8080/"
        },
        "id": "Af3UBld9AzlQ",
        "outputId": "6fd0d459-6afa-43d2-ce3b-aff73f2da0c3"
      },
      "execution_count": 17,
      "outputs": [
        {
          "output_type": "stream",
          "name": "stdout",
          "text": [
            "False\n",
            "True\n",
            "True\n",
            "True\n"
          ]
        }
      ]
    },
    {
      "cell_type": "code",
      "source": [
        "# THANK YOU!!!"
      ],
      "metadata": {
        "id": "zQp6eT_bEWRM"
      },
      "execution_count": null,
      "outputs": []
    }
  ]
}