{
  "nbformat": 4,
  "nbformat_minor": 0,
  "metadata": {
    "colab": {
      "provenance": []
    },
    "kernelspec": {
      "name": "python3",
      "display_name": "Python 3"
    },
    "language_info": {
      "name": "python"
    }
  },
  "cells": [
    {
      "cell_type": "code",
      "execution_count": null,
      "metadata": {
        "colab": {
          "base_uri": "https://localhost:8080/"
        },
        "id": "GYaZK76H_jzM",
        "outputId": "2c6e10dc-cce8-4eb7-94f3-690a8fcf70eb"
      },
      "outputs": [
        {
          "output_type": "stream",
          "name": "stderr",
          "text": [
            "[nltk_data] Downloading package stopwords to /root/nltk_data...\n",
            "[nltk_data]   Unzipping corpora/stopwords.zip.\n",
            "[nltk_data] Downloading package wordnet to /root/nltk_data...\n",
            "[nltk_data] Downloading package omw-1.4 to /root/nltk_data...\n"
          ]
        }
      ],
      "source": [
        "# IMPORTING IMP LIBRARIES\n",
        "import nltk\n",
        "nltk.download('stopwords')\n",
        "nltk.download('wordnet')\n",
        "nltk.download('omw-1.4')\n",
        "import pandas as pd\n",
        "from nltk.stem import WordNetLemmatizer\n",
        "from nltk.corpus import stopwords\n",
        "from wordcloud import wordcloud, STOPWORDS\n",
        "import seaborn as sns\n",
        "import matplotlib.pyplot as plt\n",
        "import re\n",
        "import warnings\n",
        "warnings.filterwarnings('ignore')\n",
        "%matplotlib inline\n",
        "from sklearn.feature_extraction.text import TfidfVectorizer\n",
        "from sklearn.model_selection import train_test_split\n",
        "from sklearn.naive_bayes import MultinomialNB\n",
        "from sklearn.metrics import accuracy_score, classification_report,precision_score,recall_score,f1_score\n",
        "from nltk.sentiment import SentimentIntensityAnalyzer\n",
        "import string"
      ]
    },
    {
      "cell_type": "code",
      "source": [
        "# LOADING DATASET\n",
        "file='/content/blogs (1).csv'\n",
        "\n",
        "df = pd.read_csv(file,encoding='latin')"
      ],
      "metadata": {
        "id": "o5ivlOfNDt8H"
      },
      "execution_count": null,
      "outputs": []
    },
    {
      "cell_type": "code",
      "source": [
        "df #CHECKING DATSET"
      ],
      "metadata": {
        "colab": {
          "base_uri": "https://localhost:8080/",
          "height": 424
        },
        "id": "M3iV8inkEJDY",
        "outputId": "e1e28142-7893-46d6-e284-37bc8247d521"
      },
      "execution_count": null,
      "outputs": [
        {
          "output_type": "execute_result",
          "data": {
            "text/plain": [
              "                                                   Data              Labels\n",
              "0     Path: cantaloupe.srv.cs.cmu.edu!magnesium.club...         alt.atheism\n",
              "1     Newsgroups: alt.atheism\\nPath: cantaloupe.srv....         alt.atheism\n",
              "2     Path: cantaloupe.srv.cs.cmu.edu!das-news.harva...         alt.atheism\n",
              "3     Path: cantaloupe.srv.cs.cmu.edu!magnesium.club...         alt.atheism\n",
              "4     Xref: cantaloupe.srv.cs.cmu.edu alt.atheism:53...         alt.atheism\n",
              "...                                                 ...                 ...\n",
              "1995  Xref: cantaloupe.srv.cs.cmu.edu talk.abortion:...  talk.religion.misc\n",
              "1996  Xref: cantaloupe.srv.cs.cmu.edu talk.religion....  talk.religion.misc\n",
              "1997  Xref: cantaloupe.srv.cs.cmu.edu talk.origins:4...  talk.religion.misc\n",
              "1998  Xref: cantaloupe.srv.cs.cmu.edu talk.religion....  talk.religion.misc\n",
              "1999  Xref: cantaloupe.srv.cs.cmu.edu sci.skeptic:43...  talk.religion.misc\n",
              "\n",
              "[2000 rows x 2 columns]"
            ],
            "text/html": [
              "\n",
              "  <div id=\"df-62fa12eb-15df-4ed6-ba1a-8abfe5cdd487\" class=\"colab-df-container\">\n",
              "    <div>\n",
              "<style scoped>\n",
              "    .dataframe tbody tr th:only-of-type {\n",
              "        vertical-align: middle;\n",
              "    }\n",
              "\n",
              "    .dataframe tbody tr th {\n",
              "        vertical-align: top;\n",
              "    }\n",
              "\n",
              "    .dataframe thead th {\n",
              "        text-align: right;\n",
              "    }\n",
              "</style>\n",
              "<table border=\"1\" class=\"dataframe\">\n",
              "  <thead>\n",
              "    <tr style=\"text-align: right;\">\n",
              "      <th></th>\n",
              "      <th>Data</th>\n",
              "      <th>Labels</th>\n",
              "    </tr>\n",
              "  </thead>\n",
              "  <tbody>\n",
              "    <tr>\n",
              "      <th>0</th>\n",
              "      <td>Path: cantaloupe.srv.cs.cmu.edu!magnesium.club...</td>\n",
              "      <td>alt.atheism</td>\n",
              "    </tr>\n",
              "    <tr>\n",
              "      <th>1</th>\n",
              "      <td>Newsgroups: alt.atheism\\nPath: cantaloupe.srv....</td>\n",
              "      <td>alt.atheism</td>\n",
              "    </tr>\n",
              "    <tr>\n",
              "      <th>2</th>\n",
              "      <td>Path: cantaloupe.srv.cs.cmu.edu!das-news.harva...</td>\n",
              "      <td>alt.atheism</td>\n",
              "    </tr>\n",
              "    <tr>\n",
              "      <th>3</th>\n",
              "      <td>Path: cantaloupe.srv.cs.cmu.edu!magnesium.club...</td>\n",
              "      <td>alt.atheism</td>\n",
              "    </tr>\n",
              "    <tr>\n",
              "      <th>4</th>\n",
              "      <td>Xref: cantaloupe.srv.cs.cmu.edu alt.atheism:53...</td>\n",
              "      <td>alt.atheism</td>\n",
              "    </tr>\n",
              "    <tr>\n",
              "      <th>...</th>\n",
              "      <td>...</td>\n",
              "      <td>...</td>\n",
              "    </tr>\n",
              "    <tr>\n",
              "      <th>1995</th>\n",
              "      <td>Xref: cantaloupe.srv.cs.cmu.edu talk.abortion:...</td>\n",
              "      <td>talk.religion.misc</td>\n",
              "    </tr>\n",
              "    <tr>\n",
              "      <th>1996</th>\n",
              "      <td>Xref: cantaloupe.srv.cs.cmu.edu talk.religion....</td>\n",
              "      <td>talk.religion.misc</td>\n",
              "    </tr>\n",
              "    <tr>\n",
              "      <th>1997</th>\n",
              "      <td>Xref: cantaloupe.srv.cs.cmu.edu talk.origins:4...</td>\n",
              "      <td>talk.religion.misc</td>\n",
              "    </tr>\n",
              "    <tr>\n",
              "      <th>1998</th>\n",
              "      <td>Xref: cantaloupe.srv.cs.cmu.edu talk.religion....</td>\n",
              "      <td>talk.religion.misc</td>\n",
              "    </tr>\n",
              "    <tr>\n",
              "      <th>1999</th>\n",
              "      <td>Xref: cantaloupe.srv.cs.cmu.edu sci.skeptic:43...</td>\n",
              "      <td>talk.religion.misc</td>\n",
              "    </tr>\n",
              "  </tbody>\n",
              "</table>\n",
              "<p>2000 rows × 2 columns</p>\n",
              "</div>\n",
              "    <div class=\"colab-df-buttons\">\n",
              "\n",
              "  <div class=\"colab-df-container\">\n",
              "    <button class=\"colab-df-convert\" onclick=\"convertToInteractive('df-62fa12eb-15df-4ed6-ba1a-8abfe5cdd487')\"\n",
              "            title=\"Convert this dataframe to an interactive table.\"\n",
              "            style=\"display:none;\">\n",
              "\n",
              "  <svg xmlns=\"http://www.w3.org/2000/svg\" height=\"24px\" viewBox=\"0 -960 960 960\">\n",
              "    <path d=\"M120-120v-720h720v720H120Zm60-500h600v-160H180v160Zm220 220h160v-160H400v160Zm0 220h160v-160H400v160ZM180-400h160v-160H180v160Zm440 0h160v-160H620v160ZM180-180h160v-160H180v160Zm440 0h160v-160H620v160Z\"/>\n",
              "  </svg>\n",
              "    </button>\n",
              "\n",
              "  <style>\n",
              "    .colab-df-container {\n",
              "      display:flex;\n",
              "      gap: 12px;\n",
              "    }\n",
              "\n",
              "    .colab-df-convert {\n",
              "      background-color: #E8F0FE;\n",
              "      border: none;\n",
              "      border-radius: 50%;\n",
              "      cursor: pointer;\n",
              "      display: none;\n",
              "      fill: #1967D2;\n",
              "      height: 32px;\n",
              "      padding: 0 0 0 0;\n",
              "      width: 32px;\n",
              "    }\n",
              "\n",
              "    .colab-df-convert:hover {\n",
              "      background-color: #E2EBFA;\n",
              "      box-shadow: 0px 1px 2px rgba(60, 64, 67, 0.3), 0px 1px 3px 1px rgba(60, 64, 67, 0.15);\n",
              "      fill: #174EA6;\n",
              "    }\n",
              "\n",
              "    .colab-df-buttons div {\n",
              "      margin-bottom: 4px;\n",
              "    }\n",
              "\n",
              "    [theme=dark] .colab-df-convert {\n",
              "      background-color: #3B4455;\n",
              "      fill: #D2E3FC;\n",
              "    }\n",
              "\n",
              "    [theme=dark] .colab-df-convert:hover {\n",
              "      background-color: #434B5C;\n",
              "      box-shadow: 0px 1px 3px 1px rgba(0, 0, 0, 0.15);\n",
              "      filter: drop-shadow(0px 1px 2px rgba(0, 0, 0, 0.3));\n",
              "      fill: #FFFFFF;\n",
              "    }\n",
              "  </style>\n",
              "\n",
              "    <script>\n",
              "      const buttonEl =\n",
              "        document.querySelector('#df-62fa12eb-15df-4ed6-ba1a-8abfe5cdd487 button.colab-df-convert');\n",
              "      buttonEl.style.display =\n",
              "        google.colab.kernel.accessAllowed ? 'block' : 'none';\n",
              "\n",
              "      async function convertToInteractive(key) {\n",
              "        const element = document.querySelector('#df-62fa12eb-15df-4ed6-ba1a-8abfe5cdd487');\n",
              "        const dataTable =\n",
              "          await google.colab.kernel.invokeFunction('convertToInteractive',\n",
              "                                                    [key], {});\n",
              "        if (!dataTable) return;\n",
              "\n",
              "        const docLinkHtml = 'Like what you see? Visit the ' +\n",
              "          '<a target=\"_blank\" href=https://colab.research.google.com/notebooks/data_table.ipynb>data table notebook</a>'\n",
              "          + ' to learn more about interactive tables.';\n",
              "        element.innerHTML = '';\n",
              "        dataTable['output_type'] = 'display_data';\n",
              "        await google.colab.output.renderOutput(dataTable, element);\n",
              "        const docLink = document.createElement('div');\n",
              "        docLink.innerHTML = docLinkHtml;\n",
              "        element.appendChild(docLink);\n",
              "      }\n",
              "    </script>\n",
              "  </div>\n",
              "\n",
              "\n",
              "<div id=\"df-341080a8-bc3d-4335-a0c4-da1caa4311a4\">\n",
              "  <button class=\"colab-df-quickchart\" onclick=\"quickchart('df-341080a8-bc3d-4335-a0c4-da1caa4311a4')\"\n",
              "            title=\"Suggest charts\"\n",
              "            style=\"display:none;\">\n",
              "\n",
              "<svg xmlns=\"http://www.w3.org/2000/svg\" height=\"24px\"viewBox=\"0 0 24 24\"\n",
              "     width=\"24px\">\n",
              "    <g>\n",
              "        <path d=\"M19 3H5c-1.1 0-2 .9-2 2v14c0 1.1.9 2 2 2h14c1.1 0 2-.9 2-2V5c0-1.1-.9-2-2-2zM9 17H7v-7h2v7zm4 0h-2V7h2v10zm4 0h-2v-4h2v4z\"/>\n",
              "    </g>\n",
              "</svg>\n",
              "  </button>\n",
              "\n",
              "<style>\n",
              "  .colab-df-quickchart {\n",
              "      --bg-color: #E8F0FE;\n",
              "      --fill-color: #1967D2;\n",
              "      --hover-bg-color: #E2EBFA;\n",
              "      --hover-fill-color: #174EA6;\n",
              "      --disabled-fill-color: #AAA;\n",
              "      --disabled-bg-color: #DDD;\n",
              "  }\n",
              "\n",
              "  [theme=dark] .colab-df-quickchart {\n",
              "      --bg-color: #3B4455;\n",
              "      --fill-color: #D2E3FC;\n",
              "      --hover-bg-color: #434B5C;\n",
              "      --hover-fill-color: #FFFFFF;\n",
              "      --disabled-bg-color: #3B4455;\n",
              "      --disabled-fill-color: #666;\n",
              "  }\n",
              "\n",
              "  .colab-df-quickchart {\n",
              "    background-color: var(--bg-color);\n",
              "    border: none;\n",
              "    border-radius: 50%;\n",
              "    cursor: pointer;\n",
              "    display: none;\n",
              "    fill: var(--fill-color);\n",
              "    height: 32px;\n",
              "    padding: 0;\n",
              "    width: 32px;\n",
              "  }\n",
              "\n",
              "  .colab-df-quickchart:hover {\n",
              "    background-color: var(--hover-bg-color);\n",
              "    box-shadow: 0 1px 2px rgba(60, 64, 67, 0.3), 0 1px 3px 1px rgba(60, 64, 67, 0.15);\n",
              "    fill: var(--button-hover-fill-color);\n",
              "  }\n",
              "\n",
              "  .colab-df-quickchart-complete:disabled,\n",
              "  .colab-df-quickchart-complete:disabled:hover {\n",
              "    background-color: var(--disabled-bg-color);\n",
              "    fill: var(--disabled-fill-color);\n",
              "    box-shadow: none;\n",
              "  }\n",
              "\n",
              "  .colab-df-spinner {\n",
              "    border: 2px solid var(--fill-color);\n",
              "    border-color: transparent;\n",
              "    border-bottom-color: var(--fill-color);\n",
              "    animation:\n",
              "      spin 1s steps(1) infinite;\n",
              "  }\n",
              "\n",
              "  @keyframes spin {\n",
              "    0% {\n",
              "      border-color: transparent;\n",
              "      border-bottom-color: var(--fill-color);\n",
              "      border-left-color: var(--fill-color);\n",
              "    }\n",
              "    20% {\n",
              "      border-color: transparent;\n",
              "      border-left-color: var(--fill-color);\n",
              "      border-top-color: var(--fill-color);\n",
              "    }\n",
              "    30% {\n",
              "      border-color: transparent;\n",
              "      border-left-color: var(--fill-color);\n",
              "      border-top-color: var(--fill-color);\n",
              "      border-right-color: var(--fill-color);\n",
              "    }\n",
              "    40% {\n",
              "      border-color: transparent;\n",
              "      border-right-color: var(--fill-color);\n",
              "      border-top-color: var(--fill-color);\n",
              "    }\n",
              "    60% {\n",
              "      border-color: transparent;\n",
              "      border-right-color: var(--fill-color);\n",
              "    }\n",
              "    80% {\n",
              "      border-color: transparent;\n",
              "      border-right-color: var(--fill-color);\n",
              "      border-bottom-color: var(--fill-color);\n",
              "    }\n",
              "    90% {\n",
              "      border-color: transparent;\n",
              "      border-bottom-color: var(--fill-color);\n",
              "    }\n",
              "  }\n",
              "</style>\n",
              "\n",
              "  <script>\n",
              "    async function quickchart(key) {\n",
              "      const quickchartButtonEl =\n",
              "        document.querySelector('#' + key + ' button');\n",
              "      quickchartButtonEl.disabled = true;  // To prevent multiple clicks.\n",
              "      quickchartButtonEl.classList.add('colab-df-spinner');\n",
              "      try {\n",
              "        const charts = await google.colab.kernel.invokeFunction(\n",
              "            'suggestCharts', [key], {});\n",
              "      } catch (error) {\n",
              "        console.error('Error during call to suggestCharts:', error);\n",
              "      }\n",
              "      quickchartButtonEl.classList.remove('colab-df-spinner');\n",
              "      quickchartButtonEl.classList.add('colab-df-quickchart-complete');\n",
              "    }\n",
              "    (() => {\n",
              "      let quickchartButtonEl =\n",
              "        document.querySelector('#df-341080a8-bc3d-4335-a0c4-da1caa4311a4 button');\n",
              "      quickchartButtonEl.style.display =\n",
              "        google.colab.kernel.accessAllowed ? 'block' : 'none';\n",
              "    })();\n",
              "  </script>\n",
              "</div>\n",
              "\n",
              "  <div id=\"id_800193bb-4b5e-40d3-a0c0-dff227502764\">\n",
              "    <style>\n",
              "      .colab-df-generate {\n",
              "        background-color: #E8F0FE;\n",
              "        border: none;\n",
              "        border-radius: 50%;\n",
              "        cursor: pointer;\n",
              "        display: none;\n",
              "        fill: #1967D2;\n",
              "        height: 32px;\n",
              "        padding: 0 0 0 0;\n",
              "        width: 32px;\n",
              "      }\n",
              "\n",
              "      .colab-df-generate:hover {\n",
              "        background-color: #E2EBFA;\n",
              "        box-shadow: 0px 1px 2px rgba(60, 64, 67, 0.3), 0px 1px 3px 1px rgba(60, 64, 67, 0.15);\n",
              "        fill: #174EA6;\n",
              "      }\n",
              "\n",
              "      [theme=dark] .colab-df-generate {\n",
              "        background-color: #3B4455;\n",
              "        fill: #D2E3FC;\n",
              "      }\n",
              "\n",
              "      [theme=dark] .colab-df-generate:hover {\n",
              "        background-color: #434B5C;\n",
              "        box-shadow: 0px 1px 3px 1px rgba(0, 0, 0, 0.15);\n",
              "        filter: drop-shadow(0px 1px 2px rgba(0, 0, 0, 0.3));\n",
              "        fill: #FFFFFF;\n",
              "      }\n",
              "    </style>\n",
              "    <button class=\"colab-df-generate\" onclick=\"generateWithVariable('df')\"\n",
              "            title=\"Generate code using this dataframe.\"\n",
              "            style=\"display:none;\">\n",
              "\n",
              "  <svg xmlns=\"http://www.w3.org/2000/svg\" height=\"24px\"viewBox=\"0 0 24 24\"\n",
              "       width=\"24px\">\n",
              "    <path d=\"M7,19H8.4L18.45,9,17,7.55,7,17.6ZM5,21V16.75L18.45,3.32a2,2,0,0,1,2.83,0l1.4,1.43a1.91,1.91,0,0,1,.58,1.4,1.91,1.91,0,0,1-.58,1.4L9.25,21ZM18.45,9,17,7.55Zm-12,3A5.31,5.31,0,0,0,4.9,8.1,5.31,5.31,0,0,0,1,6.5,5.31,5.31,0,0,0,4.9,4.9,5.31,5.31,0,0,0,6.5,1,5.31,5.31,0,0,0,8.1,4.9,5.31,5.31,0,0,0,12,6.5,5.46,5.46,0,0,0,6.5,12Z\"/>\n",
              "  </svg>\n",
              "    </button>\n",
              "    <script>\n",
              "      (() => {\n",
              "      const buttonEl =\n",
              "        document.querySelector('#id_800193bb-4b5e-40d3-a0c0-dff227502764 button.colab-df-generate');\n",
              "      buttonEl.style.display =\n",
              "        google.colab.kernel.accessAllowed ? 'block' : 'none';\n",
              "\n",
              "      buttonEl.onclick = () => {\n",
              "        google.colab.notebook.generateWithVariable('df');\n",
              "      }\n",
              "      })();\n",
              "    </script>\n",
              "  </div>\n",
              "\n",
              "    </div>\n",
              "  </div>\n"
            ],
            "application/vnd.google.colaboratory.intrinsic+json": {
              "type": "dataframe",
              "variable_name": "df",
              "summary": "{\n  \"name\": \"df\",\n  \"rows\": 2000,\n  \"fields\": [\n    {\n      \"column\": \"Data\",\n      \"properties\": {\n        \"dtype\": \"string\",\n        \"num_unique_values\": 2000,\n        \"samples\": [\n          \"Xref: cantaloupe.srv.cs.cmu.edu misc.headlines:41725 talk.politics.misc:178455 soc.culture.african.american:27032\\nPath: cantaloupe.srv.cs.cmu.edu!das-news.harvard.edu!noc.near.net!uunet!enterpoop.mit.edu!senator-bedfellow.mit.edu!senator-bedfellow.mit.edu!usenet\\nFrom: wdstarr@athena.mit.edu (William December Starr)\\nNewsgroups: misc.headlines,talk.politics.misc,soc.culture.african.american\\nSubject: Re: rnitedace and violence\\nDate: 19 Apr 1993 03:25:19 GMT\\nOrganization: Northeastern Law, Class of '93\\nLines: 20\\nDistribution: usa\\nMessage-ID: <1qt62vINN78p@senator-bedfellow.MIT.EDU>\\nReferences: <mdouglasC5nIEu.1w9@netcom.com> <C5ovG2.J24@magpie.linknet.com>\\nNNTP-Posting-Host: nw12-326-1.mit.edu\\nIn-reply-to: neal@magpie.linknet.com (Neal)\\n\\n\\nIn article <C5ovG2.J24@magpie.linknet.com>, \\nneal@magpie.linknet.com (Neal) said:\\n\\n> My views are out of experiences when I was a police officer in a large\\n> metropolitan area, and of a citizen. Unless people account for their\\n> behavior, and for the behavior of their immediate community, nothing\\n> will improve.\\n\\nWait a minute.  I agree with you that people have to take responsibility\\nfor their own behavior (I assume that's what you meant by the word\\n\\\"account\\\"), but also for \\\"the behavior of their immediate community\\\"?\\n\\nFirst of all, how \\\"immediate\\\" are you talking about, and secondly, I\\nhave a lot of trouble with any theory of social behavior or justice\\nwhich charges anyone with the duty of taking responsibility for or\\naccounting for the actions of a different person...\\n\\n-- William December Starr <wdstarr@athena.mit.edu>\\n\\n\",\n          \"Newsgroups: comp.sys.ibm.pc.hardware\\nPath: cantaloupe.srv.cs.cmu.edu!das-news.harvard.edu!noc.near.net!howland.reston.ans.net!gatech!swrinde!network.ucsd.edu!pacbell.com!amdahl!amdcad!dvorak.amd.com!tdbear\\nFrom: tdbear@dvorak.amd.com (Thomas D. Barrett)\\nSubject: Re: Rockwell Chipset for 14.4's ... Any good?\\nMessage-ID: <1993Apr19.012351.13406@dvorak.amd.com>\\nOrganization: Advanced Micro Devices, Inc.; Austin, Texas\\nReferences: <im14u2c.735176900@camelot>\\nDate: Mon, 19 Apr 93 01:23:51 GMT\\nLines: 28\\n\\nIn article <im14u2c.735176900@camelot> im14u2c@camelot.bradley.edu (Joe Zbiciak) writes:\\n>What's the word on the chipset?  Is this a ROM bug specific \\n>to a specific brand using the Rockwell, or is it the Rockwell\\n>chipset itself?\\n\\nThere were an assortment of firmware problems, but that is pretty much\\nexpected with any FAX/modem talking with a different FAX or modem\\nwhich may have also been revised or is new.  I'm pretty much\\noblivious to any current firmware problems, so you'll have to get it\\nfrom someone else.\\n\\nHowever, I can tell you to stay clear of any board which uses the\\nRockwell MPU (as opposed to the DPU) for an internal implementation.\\nThis is because the MPU used \\\"speed buffering\\\" instead of having a\\n16550 interface.  Without the 550 interface, the number of interrupts\\nare still the same and thus may get dropped under multitasking\\nconditions (like in windows).  As far as I know, the \\\"speed buffering\\\"\\nworks OK for external modems if a 550 is used on the internal serial\\nport board.\\n\\nHope this helps...\\nTom\\n\\n-- \\n|Tom Barrett (TDBear), Sr. Engineer|tom.barrett@amd.com|v:512-462-6856 |\\n|AMD PCD MS-520 | 5900 E. Ben White|Austin, TX  78741  |f:512-462-5155 |\\n|...don't take no/take hold/don't leave it to chance ---Tasmin Archer  |\\n|My views are my own and may not be the same as the company of origin  |\\n\",\n          \"Xref: cantaloupe.srv.cs.cmu.edu sci.energy:15692 sci.image.processing:2712 sci.anthropology:2567 sci.skeptic:43417 sci.med:59143\\nNewsgroups: sci.energy,sci.image.processing,sci.anthropology,sci.skeptic,sci.med\\nPath: cantaloupe.srv.cs.cmu.edu!magnesium.club.cc.cmu.edu!news.sei.cmu.edu!cis.ohio-state.edu!zaphod.mps.ohio-state.edu!sdd.hp.com!network.ucsd.edu!news.service.uci.edu!unogate!stgprao\\nFrom: stgprao@st.unocal.COM (Richard Ottolini)\\nSubject: Re: Krillean Photography\\nMessage-ID: <1993Apr22.153815.11961@unocal.com>\\nSender: news@unocal.com (Unocal USENET News)\\nOrganization: Unocal Corporation\\nReferences: <1993Apr19.205615.1013@unlv.edu> <BLS101.93Apr21171051@keating.anu.edu.au> <21APR199316170714@oregon.uoregon.edu>\\nDate: Thu, 22 Apr 1993 15:38:15 GMT\\nLines: 20\\n\\nLiving things maintain small electric fields to (1) enhance certain\\nchemical reactions, (2) promote communication of states with in a cell,\\n(3) communicate between cells (of which the nervous system is a specialized\\nexample), and perhaps other uses.  These electric fields change with location\\nand time in a large organism.  Special photographic techniques such as applying\\nexternal fields in Kirillian photography interact with these fields or the resistances\\ncaused by these fields to make interesting pictures. Perhaps such pictures will\\nbe diagonistic of disease problems in organisms when better understood. Perhaps not.\\n\\nStudying the overall electric activity of biological systems is several hundred\\nyears old, but not a popular activity.  Perhaps, except in the case of a few\\ntissues like nerves and the electric senses of fishes, it is hard to reduce the\\ninvestigation into small pieces that can be clearly analyzed.  There are some\\nhints that manipulating electric fields is a useful therapy such as speeding\\nthe healing of broken bones, but not understood why.\\n\\nBioelectricity has a long association with mysticism. Ideas such as Frankenstein\\nreanimation go back to the most early electrical experiments on tissue such as\\nwhen Volta invented the battery.  I personally don't care to revert to supernatural\\ncause to explain things we don't yet understand.\\n\"\n        ],\n        \"semantic_type\": \"\",\n        \"description\": \"\"\n      }\n    },\n    {\n      \"column\": \"Labels\",\n      \"properties\": {\n        \"dtype\": \"category\",\n        \"num_unique_values\": 20,\n        \"samples\": [\n          \"alt.atheism\",\n          \"talk.politics.mideast\",\n          \"soc.religion.christian\"\n        ],\n        \"semantic_type\": \"\",\n        \"description\": \"\"\n      }\n    }\n  ]\n}"
            }
          },
          "metadata": {},
          "execution_count": 4
        }
      ]
    },
    {
      "cell_type": "code",
      "source": [
        "df.shape #  2000rows and 2 columns."
      ],
      "metadata": {
        "colab": {
          "base_uri": "https://localhost:8080/"
        },
        "id": "0EFCEPN2EKF1",
        "outputId": "c12bc39d-ef01-4fb3-e50f-fc45c15eae1c"
      },
      "execution_count": null,
      "outputs": [
        {
          "output_type": "execute_result",
          "data": {
            "text/plain": [
              "(2000, 2)"
            ]
          },
          "metadata": {},
          "execution_count": 6
        }
      ]
    },
    {
      "cell_type": "code",
      "source": [
        "df.info()"
      ],
      "metadata": {
        "colab": {
          "base_uri": "https://localhost:8080/"
        },
        "id": "tS4wmHqgEkC5",
        "outputId": "893b6872-f5e5-4c65-ba9b-dcc6ba79c25b"
      },
      "execution_count": null,
      "outputs": [
        {
          "output_type": "stream",
          "name": "stdout",
          "text": [
            "<class 'pandas.core.frame.DataFrame'>\n",
            "RangeIndex: 2000 entries, 0 to 1999\n",
            "Data columns (total 2 columns):\n",
            " #   Column  Non-Null Count  Dtype \n",
            "---  ------  --------------  ----- \n",
            " 0   Data    2000 non-null   object\n",
            " 1   Labels  2000 non-null   object\n",
            "dtypes: object(2)\n",
            "memory usage: 31.4+ KB\n"
          ]
        }
      ]
    },
    {
      "cell_type": "code",
      "source": [
        "df['Labels'].value_counts()  # Checking unique values in labels\n",
        "# 20 unique categories of sentiments in label column."
      ],
      "metadata": {
        "colab": {
          "base_uri": "https://localhost:8080/",
          "height": 743
        },
        "id": "-CC_PHa5Ep1i",
        "outputId": "d51a8f52-128c-45a1-ce5e-e2c3f2f4bbf5"
      },
      "execution_count": null,
      "outputs": [
        {
          "output_type": "execute_result",
          "data": {
            "text/plain": [
              "Labels\n",
              "alt.atheism                 100\n",
              "comp.graphics               100\n",
              "talk.politics.misc          100\n",
              "talk.politics.mideast       100\n",
              "talk.politics.guns          100\n",
              "soc.religion.christian      100\n",
              "sci.space                   100\n",
              "sci.med                     100\n",
              "sci.electronics             100\n",
              "sci.crypt                   100\n",
              "rec.sport.hockey            100\n",
              "rec.sport.baseball          100\n",
              "rec.motorcycles             100\n",
              "rec.autos                   100\n",
              "misc.forsale                100\n",
              "comp.windows.x              100\n",
              "comp.sys.mac.hardware       100\n",
              "comp.sys.ibm.pc.hardware    100\n",
              "comp.os.ms-windows.misc     100\n",
              "talk.religion.misc          100\n",
              "Name: count, dtype: int64"
            ],
            "text/html": [
              "<div>\n",
              "<style scoped>\n",
              "    .dataframe tbody tr th:only-of-type {\n",
              "        vertical-align: middle;\n",
              "    }\n",
              "\n",
              "    .dataframe tbody tr th {\n",
              "        vertical-align: top;\n",
              "    }\n",
              "\n",
              "    .dataframe thead th {\n",
              "        text-align: right;\n",
              "    }\n",
              "</style>\n",
              "<table border=\"1\" class=\"dataframe\">\n",
              "  <thead>\n",
              "    <tr style=\"text-align: right;\">\n",
              "      <th></th>\n",
              "      <th>count</th>\n",
              "    </tr>\n",
              "    <tr>\n",
              "      <th>Labels</th>\n",
              "      <th></th>\n",
              "    </tr>\n",
              "  </thead>\n",
              "  <tbody>\n",
              "    <tr>\n",
              "      <th>alt.atheism</th>\n",
              "      <td>100</td>\n",
              "    </tr>\n",
              "    <tr>\n",
              "      <th>comp.graphics</th>\n",
              "      <td>100</td>\n",
              "    </tr>\n",
              "    <tr>\n",
              "      <th>talk.politics.misc</th>\n",
              "      <td>100</td>\n",
              "    </tr>\n",
              "    <tr>\n",
              "      <th>talk.politics.mideast</th>\n",
              "      <td>100</td>\n",
              "    </tr>\n",
              "    <tr>\n",
              "      <th>talk.politics.guns</th>\n",
              "      <td>100</td>\n",
              "    </tr>\n",
              "    <tr>\n",
              "      <th>soc.religion.christian</th>\n",
              "      <td>100</td>\n",
              "    </tr>\n",
              "    <tr>\n",
              "      <th>sci.space</th>\n",
              "      <td>100</td>\n",
              "    </tr>\n",
              "    <tr>\n",
              "      <th>sci.med</th>\n",
              "      <td>100</td>\n",
              "    </tr>\n",
              "    <tr>\n",
              "      <th>sci.electronics</th>\n",
              "      <td>100</td>\n",
              "    </tr>\n",
              "    <tr>\n",
              "      <th>sci.crypt</th>\n",
              "      <td>100</td>\n",
              "    </tr>\n",
              "    <tr>\n",
              "      <th>rec.sport.hockey</th>\n",
              "      <td>100</td>\n",
              "    </tr>\n",
              "    <tr>\n",
              "      <th>rec.sport.baseball</th>\n",
              "      <td>100</td>\n",
              "    </tr>\n",
              "    <tr>\n",
              "      <th>rec.motorcycles</th>\n",
              "      <td>100</td>\n",
              "    </tr>\n",
              "    <tr>\n",
              "      <th>rec.autos</th>\n",
              "      <td>100</td>\n",
              "    </tr>\n",
              "    <tr>\n",
              "      <th>misc.forsale</th>\n",
              "      <td>100</td>\n",
              "    </tr>\n",
              "    <tr>\n",
              "      <th>comp.windows.x</th>\n",
              "      <td>100</td>\n",
              "    </tr>\n",
              "    <tr>\n",
              "      <th>comp.sys.mac.hardware</th>\n",
              "      <td>100</td>\n",
              "    </tr>\n",
              "    <tr>\n",
              "      <th>comp.sys.ibm.pc.hardware</th>\n",
              "      <td>100</td>\n",
              "    </tr>\n",
              "    <tr>\n",
              "      <th>comp.os.ms-windows.misc</th>\n",
              "      <td>100</td>\n",
              "    </tr>\n",
              "    <tr>\n",
              "      <th>talk.religion.misc</th>\n",
              "      <td>100</td>\n",
              "    </tr>\n",
              "  </tbody>\n",
              "</table>\n",
              "</div><br><label><b>dtype:</b> int64</label>"
            ]
          },
          "metadata": {},
          "execution_count": 9
        }
      ]
    },
    {
      "cell_type": "code",
      "source": [
        "# Plot the distribution of categories\n",
        "plt.figure(figsize=(10, 6))\n",
        "sns.countplot(y='Labels', data=df, order=df['Labels'].value_counts().index)\n",
        "plt.title('Distribution of Blog Categories')\n",
        "plt.xlabel('Count')\n",
        "plt.ylabel('Category')\n",
        "plt.show()"
      ],
      "metadata": {
        "colab": {
          "base_uri": "https://localhost:8080/",
          "height": 371
        },
        "id": "BZSVPJpPGD8C",
        "outputId": "83a75c99-abc8-4c45-96b3-da96f67725dc"
      },
      "execution_count": null,
      "outputs": [
        {
          "output_type": "display_data",
          "data": {
            "text/plain": [
              "<Figure size 1000x600 with 1 Axes>"
            ],
            "image/png": "[encoded data removed]"
          },
          "metadata": {}
        }
      ]
    },
    {
      "cell_type": "code",
      "source": [
        "# Preprocessing the data\n",
        "def preprocess_text(text):\n",
        "  # Removing punctuation\n",
        "  text = text.translate(str.maketrans('', '',string.punctuation))\n",
        "  # Converting to lowercase\n",
        "  text = text.lower()\n",
        "  # Tokenize and removing stopwords\n",
        "  tokens = text.split()\n",
        "  tokens=[word for word in tokens if word not in stopwords.words('english')]\n",
        "  return ' '.join(tokens)"
      ],
      "metadata": {
        "id": "xLEWXH_kI0Sv"
      },
      "execution_count": null,
      "outputs": []
    },
    {
      "cell_type": "code",
      "source": [
        "# Applying processing function to the data column\n",
        "df['cleaned_data']=df['Data'].apply(preprocess_text)"
      ],
      "metadata": {
        "id": "O9KBGmDUJpFz"
      },
      "execution_count": null,
      "outputs": []
    },
    {
      "cell_type": "code",
      "source": [
        "  df.head()  # Stored clean data in a new column"
      ],
      "metadata": {
        "colab": {
          "base_uri": "https://localhost:8080/",
          "height": 400
        },
        "id": "nmB5iPqcJ88c",
        "outputId": "4e821e1f-e567-459d-a54b-85b750a98c4c"
      },
      "execution_count": null,
      "outputs": [
        {
          "output_type": "execute_result",
          "data": {
            "text/plain": [
              "                                                Data       Labels  \\\n",
              "0  Path: cantaloupe.srv.cs.cmu.edu!magnesium.club...  alt.atheism   \n",
              "1  Newsgroups: alt.atheism\\nPath: cantaloupe.srv....  alt.atheism   \n",
              "2  Path: cantaloupe.srv.cs.cmu.edu!das-news.harva...  alt.atheism   \n",
              "3  Path: cantaloupe.srv.cs.cmu.edu!magnesium.club...  alt.atheism   \n",
              "4  Xref: cantaloupe.srv.cs.cmu.edu alt.atheism:53...  alt.atheism   \n",
              "\n",
              "                                        cleaned_data  \n",
              "0  path cantaloupesrvcscmuedumagnesiumclubcccmued...  \n",
              "1  newsgroups altatheism path cantaloupesrvcscmue...  \n",
              "2  path cantaloupesrvcscmuedudasnewsharvardedunoc...  \n",
              "3  path cantaloupesrvcscmuedumagnesiumclubcccmued...  \n",
              "4  xref cantaloupesrvcscmuedu altatheism53485 tal...  "
            ],
            "text/html": [
              "\n",
              "  <div id=\"df-9f677d84-2446-43e8-8401-49f73f077617\" class=\"colab-df-container\">\n",
              "    <div>\n",
              "<style scoped>\n",
              "    .dataframe tbody tr th:only-of-type {\n",
              "        vertical-align: middle;\n",
              "    }\n",
              "\n",
              "    .dataframe tbody tr th {\n",
              "        vertical-align: top;\n",
              "    }\n",
              "\n",
              "    .dataframe thead th {\n",
              "        text-align: right;\n",
              "    }\n",
              "</style>\n",
              "<table border=\"1\" class=\"dataframe\">\n",
              "  <thead>\n",
              "    <tr style=\"text-align: right;\">\n",
              "      <th></th>\n",
              "      <th>Data</th>\n",
              "      <th>Labels</th>\n",
              "      <th>cleaned_data</th>\n",
              "    </tr>\n",
              "  </thead>\n",
              "  <tbody>\n",
              "    <tr>\n",
              "      <th>0</th>\n",
              "      <td>Path: cantaloupe.srv.cs.cmu.edu!magnesium.club...</td>\n",
              "      <td>alt.atheism</td>\n",
              "      <td>path cantaloupesrvcscmuedumagnesiumclubcccmued...</td>\n",
              "    </tr>\n",
              "    <tr>\n",
              "      <th>1</th>\n",
              "      <td>Newsgroups: alt.atheism\\nPath: cantaloupe.srv....</td>\n",
              "      <td>alt.atheism</td>\n",
              "      <td>newsgroups altatheism path cantaloupesrvcscmue...</td>\n",
              "    </tr>\n",
              "    <tr>\n",
              "      <th>2</th>\n",
              "      <td>Path: cantaloupe.srv.cs.cmu.edu!das-news.harva...</td>\n",
              "      <td>alt.atheism</td>\n",
              "      <td>path cantaloupesrvcscmuedudasnewsharvardedunoc...</td>\n",
              "    </tr>\n",
              "    <tr>\n",
              "      <th>3</th>\n",
              "      <td>Path: cantaloupe.srv.cs.cmu.edu!magnesium.club...</td>\n",
              "      <td>alt.atheism</td>\n",
              "      <td>path cantaloupesrvcscmuedumagnesiumclubcccmued...</td>\n",
              "    </tr>\n",
              "    <tr>\n",
              "      <th>4</th>\n",
              "      <td>Xref: cantaloupe.srv.cs.cmu.edu alt.atheism:53...</td>\n",
              "      <td>alt.atheism</td>\n",
              "      <td>xref cantaloupesrvcscmuedu altatheism53485 tal...</td>\n",
              "    </tr>\n",
              "  </tbody>\n",
              "</table>\n",
              "</div>\n",
              "    <div class=\"colab-df-buttons\">\n",
              "\n",
              "  <div class=\"colab-df-container\">\n",
              "    <button class=\"colab-df-convert\" onclick=\"convertToInteractive('df-9f677d84-2446-43e8-8401-49f73f077617')\"\n",
              "            title=\"Convert this dataframe to an interactive table.\"\n",
              "            style=\"display:none;\">\n",
              "\n",
              "  <svg xmlns=\"http://www.w3.org/2000/svg\" height=\"24px\" viewBox=\"0 -960 960 960\">\n",
              "    <path d=\"M120-120v-720h720v720H120Zm60-500h600v-160H180v160Zm220 220h160v-160H400v160Zm0 220h160v-160H400v160ZM180-400h160v-160H180v160Zm440 0h160v-160H620v160ZM180-180h160v-160H180v160Zm440 0h160v-160H620v160Z\"/>\n",
              "  </svg>\n",
              "    </button>\n",
              "\n",
              "  <style>\n",
              "    .colab-df-container {\n",
              "      display:flex;\n",
              "      gap: 12px;\n",
              "    }\n",
              "\n",
              "    .colab-df-convert {\n",
              "      background-color: #E8F0FE;\n",
              "      border: none;\n",
              "      border-radius: 50%;\n",
              "      cursor: pointer;\n",
              "      display: none;\n",
              "      fill: #1967D2;\n",
              "      height: 32px;\n",
              "      padding: 0 0 0 0;\n",
              "      width: 32px;\n",
              "    }\n",
              "\n",
              "    .colab-df-convert:hover {\n",
              "      background-color: #E2EBFA;\n",
              "      box-shadow: 0px 1px 2px rgba(60, 64, 67, 0.3), 0px 1px 3px 1px rgba(60, 64, 67, 0.15);\n",
              "      fill: #174EA6;\n",
              "    }\n",
              "\n",
              "    .colab-df-buttons div {\n",
              "      margin-bottom: 4px;\n",
              "    }\n",
              "\n",
              "    [theme=dark] .colab-df-convert {\n",
              "      background-color: #3B4455;\n",
              "      fill: #D2E3FC;\n",
              "    }\n",
              "\n",
              "    [theme=dark] .colab-df-convert:hover {\n",
              "      background-color: #434B5C;\n",
              "      box-shadow: 0px 1px 3px 1px rgba(0, 0, 0, 0.15);\n",
              "      filter: drop-shadow(0px 1px 2px rgba(0, 0, 0, 0.3));\n",
              "      fill: #FFFFFF;\n",
              "    }\n",
              "  </style>\n",
              "\n",
              "    <script>\n",
              "      const buttonEl =\n",
              "        document.querySelector('#df-9f677d84-2446-43e8-8401-49f73f077617 button.colab-df-convert');\n",
              "      buttonEl.style.display =\n",
              "        google.colab.kernel.accessAllowed ? 'block' : 'none';\n",
              "\n",
              "      async function convertToInteractive(key) {\n",
              "        const element = document.querySelector('#df-9f677d84-2446-43e8-8401-49f73f077617');\n",
              "        const dataTable =\n",
              "          await google.colab.kernel.invokeFunction('convertToInteractive',\n",
              "                                                    [key], {});\n",
              "        if (!dataTable) return;\n",
              "\n",
              "        const docLinkHtml = 'Like what you see? Visit the ' +\n",
              "          '<a target=\"_blank\" href=https://colab.research.google.com/notebooks/data_table.ipynb>data table notebook</a>'\n",
              "          + ' to learn more about interactive tables.';\n",
              "        element.innerHTML = '';\n",
              "        dataTable['output_type'] = 'display_data';\n",
              "        await google.colab.output.renderOutput(dataTable, element);\n",
              "        const docLink = document.createElement('div');\n",
              "        docLink.innerHTML = docLinkHtml;\n",
              "        element.appendChild(docLink);\n",
              "      }\n",
              "    </script>\n",
              "  </div>\n",
              "\n",
              "\n",
              "<div id=\"df-f2259988-f354-42d6-8c9a-58ec7e527949\">\n",
              "  <button class=\"colab-df-quickchart\" onclick=\"quickchart('df-f2259988-f354-42d6-8c9a-58ec7e527949')\"\n",
              "            title=\"Suggest charts\"\n",
              "            style=\"display:none;\">\n",
              "\n",
              "<svg xmlns=\"http://www.w3.org/2000/svg\" height=\"24px\"viewBox=\"0 0 24 24\"\n",
              "     width=\"24px\">\n",
              "    <g>\n",
              "        <path d=\"M19 3H5c-1.1 0-2 .9-2 2v14c0 1.1.9 2 2 2h14c1.1 0 2-.9 2-2V5c0-1.1-.9-2-2-2zM9 17H7v-7h2v7zm4 0h-2V7h2v10zm4 0h-2v-4h2v4z\"/>\n",
              "    </g>\n",
              "</svg>\n",
              "  </button>\n",
              "\n",
              "<style>\n",
              "  .colab-df-quickchart {\n",
              "      --bg-color: #E8F0FE;\n",
              "      --fill-color: #1967D2;\n",
              "      --hover-bg-color: #E2EBFA;\n",
              "      --hover-fill-color: #174EA6;\n",
              "      --disabled-fill-color: #AAA;\n",
              "      --disabled-bg-color: #DDD;\n",
              "  }\n",
              "\n",
              "  [theme=dark] .colab-df-quickchart {\n",
              "      --bg-color: #3B4455;\n",
              "      --fill-color: #D2E3FC;\n",
              "      --hover-bg-color: #434B5C;\n",
              "      --hover-fill-color: #FFFFFF;\n",
              "      --disabled-bg-color: #3B4455;\n",
              "      --disabled-fill-color: #666;\n",
              "  }\n",
              "\n",
              "  .colab-df-quickchart {\n",
              "    background-color: var(--bg-color);\n",
              "    border: none;\n",
              "    border-radius: 50%;\n",
              "    cursor: pointer;\n",
              "    display: none;\n",
              "    fill: var(--fill-color);\n",
              "    height: 32px;\n",
              "    padding: 0;\n",
              "    width: 32px;\n",
              "  }\n",
              "\n",
              "  .colab-df-quickchart:hover {\n",
              "    background-color: var(--hover-bg-color);\n",
              "    box-shadow: 0 1px 2px rgba(60, 64, 67, 0.3), 0 1px 3px 1px rgba(60, 64, 67, 0.15);\n",
              "    fill: var(--button-hover-fill-color);\n",
              "  }\n",
              "\n",
              "  .colab-df-quickchart-complete:disabled,\n",
              "  .colab-df-quickchart-complete:disabled:hover {\n",
              "    background-color: var(--disabled-bg-color);\n",
              "    fill: var(--disabled-fill-color);\n",
              "    box-shadow: none;\n",
              "  }\n",
              "\n",
              "  .colab-df-spinner {\n",
              "    border: 2px solid var(--fill-color);\n",
              "    border-color: transparent;\n",
              "    border-bottom-color: var(--fill-color);\n",
              "    animation:\n",
              "      spin 1s steps(1) infinite;\n",
              "  }\n",
              "\n",
              "  @keyframes spin {\n",
              "    0% {\n",
              "      border-color: transparent;\n",
              "      border-bottom-color: var(--fill-color);\n",
              "      border-left-color: var(--fill-color);\n",
              "    }\n",
              "    20% {\n",
              "      border-color: transparent;\n",
              "      border-left-color: var(--fill-color);\n",
              "      border-top-color: var(--fill-color);\n",
              "    }\n",
              "    30% {\n",
              "      border-color: transparent;\n",
              "      border-left-color: var(--fill-color);\n",
              "      border-top-color: var(--fill-color);\n",
              "      border-right-color: var(--fill-color);\n",
              "    }\n",
              "    40% {\n",
              "      border-color: transparent;\n",
              "      border-right-color: var(--fill-color);\n",
              "      border-top-color: var(--fill-color);\n",
              "    }\n",
              "    60% {\n",
              "      border-color: transparent;\n",
              "      border-right-color: var(--fill-color);\n",
              "    }\n",
              "    80% {\n",
              "      border-color: transparent;\n",
              "      border-right-color: var(--fill-color);\n",
              "      border-bottom-color: var(--fill-color);\n",
              "    }\n",
              "    90% {\n",
              "      border-color: transparent;\n",
              "      border-bottom-color: var(--fill-color);\n",
              "    }\n",
              "  }\n",
              "</style>\n",
              "\n",
              "  <script>\n",
              "    async function quickchart(key) {\n",
              "      const quickchartButtonEl =\n",
              "        document.querySelector('#' + key + ' button');\n",
              "      quickchartButtonEl.disabled = true;  // To prevent multiple clicks.\n",
              "      quickchartButtonEl.classList.add('colab-df-spinner');\n",
              "      try {\n",
              "        const charts = await google.colab.kernel.invokeFunction(\n",
              "            'suggestCharts', [key], {});\n",
              "      } catch (error) {\n",
              "        console.error('Error during call to suggestCharts:', error);\n",
              "      }\n",
              "      quickchartButtonEl.classList.remove('colab-df-spinner');\n",
              "      quickchartButtonEl.classList.add('colab-df-quickchart-complete');\n",
              "    }\n",
              "    (() => {\n",
              "      let quickchartButtonEl =\n",
              "        document.querySelector('#df-f2259988-f354-42d6-8c9a-58ec7e527949 button');\n",
              "      quickchartButtonEl.style.display =\n",
              "        google.colab.kernel.accessAllowed ? 'block' : 'none';\n",
              "    })();\n",
              "  </script>\n",
              "</div>\n",
              "\n",
              "    </div>\n",
              "  </div>\n"
            ],
            "application/vnd.google.colaboratory.intrinsic+json": {
              "type": "dataframe",
              "variable_name": "df",
              "summary": "{\n  \"name\": \"df\",\n  \"rows\": 2000,\n  \"fields\": [\n    {\n      \"column\": \"Data\",\n      \"properties\": {\n        \"dtype\": \"string\",\n        \"num_unique_values\": 2000,\n        \"samples\": [\n          \"Xref: cantaloupe.srv.cs.cmu.edu misc.headlines:41725 talk.politics.misc:178455 soc.culture.african.american:27032\\nPath: cantaloupe.srv.cs.cmu.edu!das-news.harvard.edu!noc.near.net!uunet!enterpoop.mit.edu!senator-bedfellow.mit.edu!senator-bedfellow.mit.edu!usenet\\nFrom: wdstarr@athena.mit.edu (William December Starr)\\nNewsgroups: misc.headlines,talk.politics.misc,soc.culture.african.american\\nSubject: Re: rnitedace and violence\\nDate: 19 Apr 1993 03:25:19 GMT\\nOrganization: Northeastern Law, Class of '93\\nLines: 20\\nDistribution: usa\\nMessage-ID: <1qt62vINN78p@senator-bedfellow.MIT.EDU>\\nReferences: <mdouglasC5nIEu.1w9@netcom.com> <C5ovG2.J24@magpie.linknet.com>\\nNNTP-Posting-Host: nw12-326-1.mit.edu\\nIn-reply-to: neal@magpie.linknet.com (Neal)\\n\\n\\nIn article <C5ovG2.J24@magpie.linknet.com>, \\nneal@magpie.linknet.com (Neal) said:\\n\\n> My views are out of experiences when I was a police officer in a large\\n> metropolitan area, and of a citizen. Unless people account for their\\n> behavior, and for the behavior of their immediate community, nothing\\n> will improve.\\n\\nWait a minute.  I agree with you that people have to take responsibility\\nfor their own behavior (I assume that's what you meant by the word\\n\\\"account\\\"), but also for \\\"the behavior of their immediate community\\\"?\\n\\nFirst of all, how \\\"immediate\\\" are you talking about, and secondly, I\\nhave a lot of trouble with any theory of social behavior or justice\\nwhich charges anyone with the duty of taking responsibility for or\\naccounting for the actions of a different person...\\n\\n-- William December Starr <wdstarr@athena.mit.edu>\\n\\n\",\n          \"Newsgroups: comp.sys.ibm.pc.hardware\\nPath: cantaloupe.srv.cs.cmu.edu!das-news.harvard.edu!noc.near.net!howland.reston.ans.net!gatech!swrinde!network.ucsd.edu!pacbell.com!amdahl!amdcad!dvorak.amd.com!tdbear\\nFrom: tdbear@dvorak.amd.com (Thomas D. Barrett)\\nSubject: Re: Rockwell Chipset for 14.4's ... Any good?\\nMessage-ID: <1993Apr19.012351.13406@dvorak.amd.com>\\nOrganization: Advanced Micro Devices, Inc.; Austin, Texas\\nReferences: <im14u2c.735176900@camelot>\\nDate: Mon, 19 Apr 93 01:23:51 GMT\\nLines: 28\\n\\nIn article <im14u2c.735176900@camelot> im14u2c@camelot.bradley.edu (Joe Zbiciak) writes:\\n>What's the word on the chipset?  Is this a ROM bug specific \\n>to a specific brand using the Rockwell, or is it the Rockwell\\n>chipset itself?\\n\\nThere were an assortment of firmware problems, but that is pretty much\\nexpected with any FAX/modem talking with a different FAX or modem\\nwhich may have also been revised or is new.  I'm pretty much\\noblivious to any current firmware problems, so you'll have to get it\\nfrom someone else.\\n\\nHowever, I can tell you to stay clear of any board which uses the\\nRockwell MPU (as opposed to the DPU) for an internal implementation.\\nThis is because the MPU used \\\"speed buffering\\\" instead of having a\\n16550 interface.  Without the 550 interface, the number of interrupts\\nare still the same and thus may get dropped under multitasking\\nconditions (like in windows).  As far as I know, the \\\"speed buffering\\\"\\nworks OK for external modems if a 550 is used on the internal serial\\nport board.\\n\\nHope this helps...\\nTom\\n\\n-- \\n|Tom Barrett (TDBear), Sr. Engineer|tom.barrett@amd.com|v:512-462-6856 |\\n|AMD PCD MS-520 | 5900 E. Ben White|Austin, TX  78741  |f:512-462-5155 |\\n|...don't take no/take hold/don't leave it to chance ---Tasmin Archer  |\\n|My views are my own and may not be the same as the company of origin  |\\n\",\n          \"Xref: cantaloupe.srv.cs.cmu.edu sci.energy:15692 sci.image.processing:2712 sci.anthropology:2567 sci.skeptic:43417 sci.med:59143\\nNewsgroups: sci.energy,sci.image.processing,sci.anthropology,sci.skeptic,sci.med\\nPath: cantaloupe.srv.cs.cmu.edu!magnesium.club.cc.cmu.edu!news.sei.cmu.edu!cis.ohio-state.edu!zaphod.mps.ohio-state.edu!sdd.hp.com!network.ucsd.edu!news.service.uci.edu!unogate!stgprao\\nFrom: stgprao@st.unocal.COM (Richard Ottolini)\\nSubject: Re: Krillean Photography\\nMessage-ID: <1993Apr22.153815.11961@unocal.com>\\nSender: news@unocal.com (Unocal USENET News)\\nOrganization: Unocal Corporation\\nReferences: <1993Apr19.205615.1013@unlv.edu> <BLS101.93Apr21171051@keating.anu.edu.au> <21APR199316170714@oregon.uoregon.edu>\\nDate: Thu, 22 Apr 1993 15:38:15 GMT\\nLines: 20\\n\\nLiving things maintain small electric fields to (1) enhance certain\\nchemical reactions, (2) promote communication of states with in a cell,\\n(3) communicate between cells (of which the nervous system is a specialized\\nexample), and perhaps other uses.  These electric fields change with location\\nand time in a large organism.  Special photographic techniques such as applying\\nexternal fields in Kirillian photography interact with these fields or the resistances\\ncaused by these fields to make interesting pictures. Perhaps such pictures will\\nbe diagonistic of disease problems in organisms when better understood. Perhaps not.\\n\\nStudying the overall electric activity of biological systems is several hundred\\nyears old, but not a popular activity.  Perhaps, except in the case of a few\\ntissues like nerves and the electric senses of fishes, it is hard to reduce the\\ninvestigation into small pieces that can be clearly analyzed.  There are some\\nhints that manipulating electric fields is a useful therapy such as speeding\\nthe healing of broken bones, but not understood why.\\n\\nBioelectricity has a long association with mysticism. Ideas such as Frankenstein\\nreanimation go back to the most early electrical experiments on tissue such as\\nwhen Volta invented the battery.  I personally don't care to revert to supernatural\\ncause to explain things we don't yet understand.\\n\"\n        ],\n        \"semantic_type\": \"\",\n        \"description\": \"\"\n      }\n    },\n    {\n      \"column\": \"Labels\",\n      \"properties\": {\n        \"dtype\": \"category\",\n        \"num_unique_values\": 20,\n        \"samples\": [\n          \"alt.atheism\",\n          \"talk.politics.mideast\",\n          \"soc.religion.christian\"\n        ],\n        \"semantic_type\": \"\",\n        \"description\": \"\"\n      }\n    },\n    {\n      \"column\": \"cleaned_data\",\n      \"properties\": {\n        \"dtype\": \"string\",\n        \"num_unique_values\": 2000,\n        \"samples\": [\n          \"xref cantaloupesrvcscmuedu mischeadlines41725 talkpoliticsmisc178455 soccultureafricanamerican27032 path cantaloupesrvcscmuedudasnewsharvardedunocnearnetuunetenterpoopmitedusenatorbedfellowmitedusenatorbedfellowmiteduusenet wdstarrathenamitedu william december starr newsgroups mischeadlinestalkpoliticsmiscsoccultureafricanamerican subject rnitedace violence date 19 apr 1993 032519 gmt organization northeastern law class 93 lines 20 distribution usa messageid 1qt62vinn78psenatorbedfellowmitedu references mdouglasc5nieu1w9netcomcom c5ovg2j24magpielinknetcom nntppostinghost nw123261mitedu inreplyto nealmagpielinknetcom neal article c5ovg2j24magpielinknetcom nealmagpielinknetcom neal said views experiences police officer large metropolitan area citizen unless people account behavior behavior immediate community nothing improve wait minute agree people take responsibility behavior assume thats meant word account also behavior immediate community first immediate talking secondly lot trouble theory social behavior justice charges anyone duty taking responsibility accounting actions different person william december starr wdstarrathenamitedu\",\n          \"newsgroups compsysibmpchardware path cantaloupesrvcscmuedudasnewsharvardedunocnearnethowlandrestonansnetgatechswrindenetworkucsdedupacbellcomamdahlamdcaddvorakamdcomtdbear tdbeardvorakamdcom thomas barrett subject rockwell chipset 144s good messageid 1993apr1901235113406dvorakamdcom organization advanced micro devices inc austin texas references im14u2c735176900camelot date mon 19 apr 93 012351 gmt lines 28 article im14u2c735176900camelot im14u2ccamelotbradleyedu joe zbiciak writes whats word chipset rom bug specific specific brand using rockwell rockwell chipset assortment firmware problems pretty much expected faxmodem talking different fax modem may also revised new im pretty much oblivious current firmware problems youll get someone else however tell stay clear board uses rockwell mpu opposed dpu internal implementation mpu used speed buffering instead 16550 interface without 550 interface number interrupts still thus may get dropped multitasking conditions like windows far know speed buffering works ok external modems 550 used internal serial port board hope helps tom tom barrett tdbear sr engineertombarrettamdcomv5124626856 amd pcd ms520 5900 e ben whiteaustin tx 78741 f5124625155 dont take notake holddont leave chance tasmin archer views may company origin\",\n          \"xref cantaloupesrvcscmuedu scienergy15692 sciimageprocessing2712 scianthropology2567 sciskeptic43417 scimed59143 newsgroups scienergysciimageprocessingscianthropologysciskepticscimed path cantaloupesrvcscmuedumagnesiumclubcccmuedunewsseicmueducisohiostateeduzaphodmpsohiostateedusddhpcomnetworkucsdedunewsserviceucieduunogatestgprao stgpraostunocalcom richard ottolini subject krillean photography messageid 1993apr2215381511961unocalcom sender newsunocalcom unocal usenet news organization unocal corporation references 1993apr192056151013unlvedu bls10193apr21171051keatinganueduau 21apr199316170714oregonuoregonedu date thu 22 apr 1993 153815 gmt lines 20 living things maintain small electric fields 1 enhance certain chemical reactions 2 promote communication states cell 3 communicate cells nervous system specialized example perhaps uses electric fields change location time large organism special photographic techniques applying external fields kirillian photography interact fields resistances caused fields make interesting pictures perhaps pictures diagonistic disease problems organisms better understood perhaps studying overall electric activity biological systems several hundred years old popular activity perhaps except case tissues like nerves electric senses fishes hard reduce investigation small pieces clearly analyzed hints manipulating electric fields useful therapy speeding healing broken bones understood bioelectricity long association mysticism ideas frankenstein reanimation go back early electrical experiments tissue volta invented battery personally dont care revert supernatural cause explain things dont yet understand\"\n        ],\n        \"semantic_type\": \"\",\n        \"description\": \"\"\n      }\n    }\n  ]\n}"
            }
          },
          "metadata": {},
          "execution_count": 30
        }
      ]
    },
    {
      "cell_type": "code",
      "source": [
        "# Performing fature extraction\n",
        "vectorizer =TfidfVectorizer(max_features=5000)\n",
        "# Splitting the data into x and y\n",
        "x=vectorizer.fit_transform(df['cleaned_data']).toarray()\n",
        "y=df['Labels']"
      ],
      "metadata": {
        "id": "c_1ayfWCLnbf"
      },
      "execution_count": null,
      "outputs": []
    },
    {
      "cell_type": "code",
      "source": [
        "# Spitting data into testing and training dataset\n",
        "x_train,x_test,y_train,y_test=train_test_split(x,y,test_size=0.2,random_state=42)"
      ],
      "metadata": {
        "id": "9K7WJDSbMIkO"
      },
      "execution_count": null,
      "outputs": []
    },
    {
      "cell_type": "code",
      "source": [
        "# Applying naive bayes model for text Classification.\n",
        "nb=MultinomialNB()\n",
        "# Training model\n",
        "nb.fit(x_train,y_train)\n"
      ],
      "metadata": {
        "colab": {
          "base_uri": "https://localhost:8080/",
          "height": 74
        },
        "id": "D7W50HoEMYvV",
        "outputId": "b6d26823-c038-400f-cf0d-f9f9f554473a"
      },
      "execution_count": null,
      "outputs": [
        {
          "output_type": "execute_result",
          "data": {
            "text/plain": [
              "MultinomialNB()"
            ],
            "text/html": [
              "<style>#sk-container-id-2 {color: black;}#sk-container-id-2 pre{padding: 0;}#sk-container-id-2 div.sk-toggleable {background-color: white;}#sk-container-id-2 label.sk-toggleable__label {cursor: pointer;display: block;width: 100%;margin-bottom: 0;padding: 0.3em;box-sizing: border-box;text-align: center;}#sk-container-id-2 label.sk-toggleable__label-arrow:before {content: \"▸\";float: left;margin-right: 0.25em;color: #696969;}#sk-container-id-2 label.sk-toggleable__label-arrow:hover:before {color: black;}#sk-container-id-2 div.sk-estimator:hover label.sk-toggleable__label-arrow:before {color: black;}#sk-container-id-2 div.sk-toggleable__content {max-height: 0;max-width: 0;overflow: hidden;text-align: left;background-color: #f0f8ff;}#sk-container-id-2 div.sk-toggleable__content pre {margin: 0.2em;color: black;border-radius: 0.25em;background-color: #f0f8ff;}#sk-container-id-2 input.sk-toggleable__control:checked~div.sk-toggleable__content {max-height: 200px;max-width: 100%;overflow: auto;}#sk-container-id-2 input.sk-toggleable__control:checked~label.sk-toggleable__label-arrow:before {content: \"▾\";}#sk-container-id-2 div.sk-estimator input.sk-toggleable__control:checked~label.sk-toggleable__label {background-color: #d4ebff;}#sk-container-id-2 div.sk-label input.sk-toggleable__control:checked~label.sk-toggleable__label {background-color: #d4ebff;}#sk-container-id-2 input.sk-hidden--visually {border: 0;clip: rect(1px 1px 1px 1px);clip: rect(1px, 1px, 1px, 1px);height: 1px;margin: -1px;overflow: hidden;padding: 0;position: absolute;width: 1px;}#sk-container-id-2 div.sk-estimator {font-family: monospace;background-color: #f0f8ff;border: 1px dotted black;border-radius: 0.25em;box-sizing: border-box;margin-bottom: 0.5em;}#sk-container-id-2 div.sk-estimator:hover {background-color: #d4ebff;}#sk-container-id-2 div.sk-parallel-item::after {content: \"\";width: 100%;border-bottom: 1px solid gray;flex-grow: 1;}#sk-container-id-2 div.sk-label:hover label.sk-toggleable__label {background-color: #d4ebff;}#sk-container-id-2 div.sk-serial::before {content: \"\";position: absolute;border-left: 1px solid gray;box-sizing: border-box;top: 0;bottom: 0;left: 50%;z-index: 0;}#sk-container-id-2 div.sk-serial {display: flex;flex-direction: column;align-items: center;background-color: white;padding-right: 0.2em;padding-left: 0.2em;position: relative;}#sk-container-id-2 div.sk-item {position: relative;z-index: 1;}#sk-container-id-2 div.sk-parallel {display: flex;align-items: stretch;justify-content: center;background-color: white;position: relative;}#sk-container-id-2 div.sk-item::before, #sk-container-id-2 div.sk-parallel-item::before {content: \"\";position: absolute;border-left: 1px solid gray;box-sizing: border-box;top: 0;bottom: 0;left: 50%;z-index: -1;}#sk-container-id-2 div.sk-parallel-item {display: flex;flex-direction: column;z-index: 1;position: relative;background-color: white;}#sk-container-id-2 div.sk-parallel-item:first-child::after {align-self: flex-end;width: 50%;}#sk-container-id-2 div.sk-parallel-item:last-child::after {align-self: flex-start;width: 50%;}#sk-container-id-2 div.sk-parallel-item:only-child::after {width: 0;}#sk-container-id-2 div.sk-dashed-wrapped {border: 1px dashed gray;margin: 0 0.4em 0.5em 0.4em;box-sizing: border-box;padding-bottom: 0.4em;background-color: white;}#sk-container-id-2 div.sk-label label {font-family: monospace;font-weight: bold;display: inline-block;line-height: 1.2em;}#sk-container-id-2 div.sk-label-container {text-align: center;}#sk-container-id-2 div.sk-container {/* jupyter's `normalize.less` sets `[hidden] { display: none; }` but bootstrap.min.css set `[hidden] { display: none !important; }` so we also need the `!important` here to be able to override the default hidden behavior on the sphinx rendered scikit-learn.org. See: https://github.com/scikit-learn/scikit-learn/issues/21755 */display: inline-block !important;position: relative;}#sk-container-id-2 div.sk-text-repr-fallback {display: none;}</style><div id=\"sk-container-id-2\" class=\"sk-top-container\"><div class=\"sk-text-repr-fallback\"><pre>MultinomialNB()</pre><b>In a Jupyter environment, please rerun this cell to show the HTML representation or trust the notebook. <br />On GitHub, the HTML representation is unable to render, please try loading this page with nbviewer.org.</b></div><div class=\"sk-container\" hidden><div class=\"sk-item\"><div class=\"sk-estimator sk-toggleable\"><input class=\"sk-toggleable__control sk-hidden--visually\" id=\"sk-estimator-id-2\" type=\"checkbox\" checked><label for=\"sk-estimator-id-2\" class=\"sk-toggleable__label sk-toggleable__label-arrow\">MultinomialNB</label><div class=\"sk-toggleable__content\"><pre>MultinomialNB()</pre></div></div></div></div></div>"
            ]
          },
          "metadata": {},
          "execution_count": 33
        }
      ]
    },
    {
      "cell_type": "code",
      "source": [
        "y_pred=nb.predict(x_test)"
      ],
      "metadata": {
        "id": "Bh4FFdUsNV1u"
      },
      "execution_count": null,
      "outputs": []
    },
    {
      "cell_type": "code",
      "source": [
        "# Performing evaluation\n",
        "print(classification_report(y_test,y_pred))"
      ],
      "metadata": {
        "colab": {
          "base_uri": "https://localhost:8080/"
        },
        "id": "QJnKa1vXNakn",
        "outputId": "5c88074d-6012-4438-896c-ee875eb444c3"
      },
      "execution_count": null,
      "outputs": [
        {
          "output_type": "stream",
          "name": "stdout",
          "text": [
            "                          precision    recall  f1-score   support\n",
            "\n",
            "             alt.atheism       0.50      0.83      0.62        18\n",
            "           comp.graphics       0.79      0.83      0.81        18\n",
            " comp.os.ms-windows.misc       0.86      0.82      0.84        22\n",
            "comp.sys.ibm.pc.hardware       0.76      0.76      0.76        25\n",
            "   comp.sys.mac.hardware       0.83      0.90      0.86        21\n",
            "          comp.windows.x       0.91      0.84      0.87        25\n",
            "            misc.forsale       0.82      0.78      0.80        18\n",
            "               rec.autos       0.89      0.94      0.92        18\n",
            "         rec.motorcycles       0.94      0.94      0.94        16\n",
            "      rec.sport.baseball       0.77      0.94      0.85        18\n",
            "        rec.sport.hockey       0.88      1.00      0.94        15\n",
            "               sci.crypt       0.95      0.95      0.95        19\n",
            "         sci.electronics       0.62      0.62      0.62        16\n",
            "                 sci.med       0.88      0.88      0.88        17\n",
            "               sci.space       1.00      0.81      0.89        21\n",
            "  soc.religion.christian       0.88      0.96      0.92        23\n",
            "      talk.politics.guns       0.85      0.79      0.81        28\n",
            "   talk.politics.mideast       1.00      0.90      0.95        20\n",
            "      talk.politics.misc       0.80      0.89      0.84        18\n",
            "      talk.religion.misc       0.60      0.25      0.35        24\n",
            "\n",
            "                accuracy                           0.82       400\n",
            "               macro avg       0.83      0.83      0.82       400\n",
            "            weighted avg       0.83      0.82      0.82       400\n",
            "\n"
          ]
        }
      ]
    },
    {
      "cell_type": "code",
      "source": [
        "# Evaluate the model\n",
        "accuracy = accuracy_score(y_test, y_pred)\n",
        "precision = precision_score(y_test, y_pred, average='weighted')\n",
        "recall = recall_score(y_test, y_pred, average='weighted')\n",
        "f1 = f1_score(y_test, y_pred, average='weighted')"
      ],
      "metadata": {
        "id": "CKPnNTbNNkUh"
      },
      "execution_count": null,
      "outputs": []
    },
    {
      "cell_type": "code",
      "source": [
        "print(f'Accuracy: {accuracy}')\n",
        "print(f'Precision: {precision}')\n",
        "print(f'Recall: {recall}')\n",
        "print(f'F1 Score: {f1}')\n",
        "print('\\nClassification Report:')\n",
        "print(classification_report(y_test, y_pred))"
      ],
      "metadata": {
        "colab": {
          "base_uri": "https://localhost:8080/"
        },
        "id": "iKGjpUOsOd3V",
        "outputId": "b5c9e8b0-e56d-4d20-a8c0-ab11162feb36"
      },
      "execution_count": null,
      "outputs": [
        {
          "output_type": "stream",
          "name": "stdout",
          "text": [
            "Accuracy: 0.8225\n",
            "Precision: 0.8276176687627891\n",
            "Recall: 0.8225\n",
            "F1 Score: 0.8171026916205228\n",
            "\n",
            "Classification Report:\n",
            "                          precision    recall  f1-score   support\n",
            "\n",
            "             alt.atheism       0.50      0.83      0.62        18\n",
            "           comp.graphics       0.79      0.83      0.81        18\n",
            " comp.os.ms-windows.misc       0.86      0.82      0.84        22\n",
            "comp.sys.ibm.pc.hardware       0.76      0.76      0.76        25\n",
            "   comp.sys.mac.hardware       0.83      0.90      0.86        21\n",
            "          comp.windows.x       0.91      0.84      0.87        25\n",
            "            misc.forsale       0.82      0.78      0.80        18\n",
            "               rec.autos       0.89      0.94      0.92        18\n",
            "         rec.motorcycles       0.94      0.94      0.94        16\n",
            "      rec.sport.baseball       0.77      0.94      0.85        18\n",
            "        rec.sport.hockey       0.88      1.00      0.94        15\n",
            "               sci.crypt       0.95      0.95      0.95        19\n",
            "         sci.electronics       0.62      0.62      0.62        16\n",
            "                 sci.med       0.88      0.88      0.88        17\n",
            "               sci.space       1.00      0.81      0.89        21\n",
            "  soc.religion.christian       0.88      0.96      0.92        23\n",
            "      talk.politics.guns       0.85      0.79      0.81        28\n",
            "   talk.politics.mideast       1.00      0.90      0.95        20\n",
            "      talk.politics.misc       0.80      0.89      0.84        18\n",
            "      talk.religion.misc       0.60      0.25      0.35        24\n",
            "\n",
            "                accuracy                           0.82       400\n",
            "               macro avg       0.83      0.83      0.82       400\n",
            "            weighted avg       0.83      0.82      0.82       400\n",
            "\n"
          ]
        }
      ]
    },
    {
      "cell_type": "code",
      "source": [
        "# SENTIMENT ANALYSIS\n",
        "nltk.download('vader_lexicon')\n"
      ],
      "metadata": {
        "colab": {
          "base_uri": "https://localhost:8080/"
        },
        "id": "u9T8vc6FOgHJ",
        "outputId": "51981fea-83db-417b-ecc2-33a662b794e8"
      },
      "execution_count": null,
      "outputs": [
        {
          "output_type": "stream",
          "name": "stderr",
          "text": [
            "[nltk_data] Downloading package vader_lexicon to /root/nltk_data...\n"
          ]
        },
        {
          "output_type": "execute_result",
          "data": {
            "text/plain": [
              "True"
            ]
          },
          "metadata": {},
          "execution_count": 38
        }
      ]
    },
    {
      "cell_type": "code",
      "source": [
        "senti=SentimentIntensityAnalyzer()  # Intializing sentiment intensity analyzer"
      ],
      "metadata": {
        "id": "qtiioPU3P74M"
      },
      "execution_count": null,
      "outputs": []
    },
    {
      "cell_type": "code",
      "source": [
        "# User define function for sentiment anaylysis.\n",
        "def get_sentiment(text):\n",
        "  scores=senti.polarity_scores(text)\n",
        "  if scores['compound']>=0.05:\n",
        "    return 'positive'\n",
        "  elif scores['compound']<=-0.05:\n",
        "    return 'negative'\n",
        "  else:\n",
        "    return 'neutral'\n"
      ],
      "metadata": {
        "id": "NehVkkxtQC4-"
      },
      "execution_count": null,
      "outputs": []
    },
    {
      "cell_type": "code",
      "source": [
        "# Applying function to cleaned_data\n",
        "df['Sentiment']=df['cleaned_data'].apply(get_sentiment)"
      ],
      "metadata": {
        "id": "uXbsqCk0Qwd0"
      },
      "execution_count": null,
      "outputs": []
    },
    {
      "cell_type": "code",
      "source": [
        "print(df.head())"
      ],
      "metadata": {
        "colab": {
          "base_uri": "https://localhost:8080/"
        },
        "id": "9UC8sQWLRBHX",
        "outputId": "4797a3fc-fbe0-48ca-f271-465b98b55f49"
      },
      "execution_count": null,
      "outputs": [
        {
          "output_type": "stream",
          "name": "stdout",
          "text": [
            "                                                Data       Labels  \\\n",
            "0  Path: cantaloupe.srv.cs.cmu.edu!magnesium.club...  alt.atheism   \n",
            "1  Newsgroups: alt.atheism\\nPath: cantaloupe.srv....  alt.atheism   \n",
            "2  Path: cantaloupe.srv.cs.cmu.edu!das-news.harva...  alt.atheism   \n",
            "3  Path: cantaloupe.srv.cs.cmu.edu!magnesium.club...  alt.atheism   \n",
            "4  Xref: cantaloupe.srv.cs.cmu.edu alt.atheism:53...  alt.atheism   \n",
            "\n",
            "                                        cleaned_data Sentiment  \n",
            "0  path cantaloupesrvcscmuedumagnesiumclubcccmued...  negative  \n",
            "1  newsgroups altatheism path cantaloupesrvcscmue...  positive  \n",
            "2  path cantaloupesrvcscmuedudasnewsharvardedunoc...  negative  \n",
            "3  path cantaloupesrvcscmuedumagnesiumclubcccmued...  negative  \n",
            "4  xref cantaloupesrvcscmuedu altatheism53485 tal...  positive  \n"
          ]
        }
      ]
    },
    {
      "cell_type": "code",
      "source": [
        " # Examine the distribution of sentiments across different categories\n",
        "sentiment_category = df.groupby('Labels')['Sentiment'].value_counts(normalize=True).unstack().fillna(0)\n",
        "print(sentiment_category)"
      ],
      "metadata": {
        "colab": {
          "base_uri": "https://localhost:8080/"
        },
        "id": "b2_2R7E5REse",
        "outputId": "8a9fb231-7549-4dcd-be0b-f6984fa96b47"
      },
      "execution_count": null,
      "outputs": [
        {
          "output_type": "stream",
          "name": "stdout",
          "text": [
            "Sentiment                 negative  neutral  positive\n",
            "Labels                                               \n",
            "alt.atheism                   0.40     0.01      0.59\n",
            "comp.graphics                 0.10     0.03      0.87\n",
            "comp.os.ms-windows.misc       0.22     0.02      0.76\n",
            "comp.sys.ibm.pc.hardware      0.18     0.03      0.79\n",
            "comp.sys.mac.hardware         0.17     0.04      0.79\n",
            "comp.windows.x                0.21     0.02      0.77\n",
            "misc.forsale                  0.08     0.10      0.82\n",
            "rec.autos                     0.26     0.03      0.71\n",
            "rec.motorcycles               0.32     0.01      0.67\n",
            "rec.sport.baseball            0.25     0.03      0.72\n",
            "rec.sport.hockey              0.28     0.03      0.69\n",
            "sci.crypt                     0.22     0.02      0.76\n",
            "sci.electronics               0.13     0.06      0.81\n",
            "sci.med                       0.29     0.02      0.69\n",
            "sci.space                     0.28     0.05      0.67\n",
            "soc.religion.christian        0.28     0.01      0.71\n",
            "talk.politics.guns            0.65     0.05      0.30\n",
            "talk.politics.mideast         0.68     0.00      0.32\n",
            "talk.politics.misc            0.52     0.05      0.43\n",
            "talk.religion.misc            0.32     0.02      0.66\n"
          ]
        }
      ]
    },
    {
      "cell_type": "code",
      "source": [
        "# Plot the sentiment distribution across categories\n",
        "sentiment_category.plot(kind='bar', stacked=True, figsize=(12, 8))\n",
        "plt.title('Sentiment Distribution Across Categories')\n",
        "plt.xlabel('Category')\n",
        "plt.ylabel('Proportion')\n",
        "plt.show()"
      ],
      "metadata": {
        "colab": {
          "base_uri": "https://localhost:8080/",
          "height": 589
        },
        "id": "z-Pbhx7ZS9Ss",
        "outputId": "ec8a728d-a1ec-4c68-ee40-841951472239"
      },
      "execution_count": null,
      "outputs": [
        {
          "output_type": "display_data",
          "data": {
            "text/plain": [
              "<Figure size 1200x800 with 1 Axes>"
            ],
            "image/png": "[encoded data removed]"
          },
          "metadata": {}
        }
      ]
    },
    {
      "cell_type": "code",
      "source": [
        "# Summarize the evaluation results\n",
        "print(f'Naive Bayes Classifier Performance:')\n",
        "print(f'Accuracy: {accuracy:.4f}')\n",
        "print(f'Precision: {precision:.4f}')\n",
        "print(f'Recall: {recall:.4f}')\n",
        "print(f'F1 Score: {f1:.4f}')\n",
        "print('\\nClassification Report:')\n",
        "print(classification_report(y_test, y_pred))\n"
      ],
      "metadata": {
        "colab": {
          "base_uri": "https://localhost:8080/"
        },
        "id": "11HHi2IqS-Hh",
        "outputId": "cfb61d0d-94b8-4170-eca5-6e2313c4626a"
      },
      "execution_count": null,
      "outputs": [
        {
          "output_type": "stream",
          "name": "stdout",
          "text": [
            "Naive Bayes Classifier Performance:\n",
            "Accuracy: 0.8225\n",
            "Precision: 0.8276\n",
            "Recall: 0.8225\n",
            "F1 Score: 0.8171\n",
            "\n",
            "Classification Report:\n",
            "                          precision    recall  f1-score   support\n",
            "\n",
            "             alt.atheism       0.50      0.83      0.62        18\n",
            "           comp.graphics       0.79      0.83      0.81        18\n",
            " comp.os.ms-windows.misc       0.86      0.82      0.84        22\n",
            "comp.sys.ibm.pc.hardware       0.76      0.76      0.76        25\n",
            "   comp.sys.mac.hardware       0.83      0.90      0.86        21\n",
            "          comp.windows.x       0.91      0.84      0.87        25\n",
            "            misc.forsale       0.82      0.78      0.80        18\n",
            "               rec.autos       0.89      0.94      0.92        18\n",
            "         rec.motorcycles       0.94      0.94      0.94        16\n",
            "      rec.sport.baseball       0.77      0.94      0.85        18\n",
            "        rec.sport.hockey       0.88      1.00      0.94        15\n",
            "               sci.crypt       0.95      0.95      0.95        19\n",
            "         sci.electronics       0.62      0.62      0.62        16\n",
            "                 sci.med       0.88      0.88      0.88        17\n",
            "               sci.space       1.00      0.81      0.89        21\n",
            "  soc.religion.christian       0.88      0.96      0.92        23\n",
            "      talk.politics.guns       0.85      0.79      0.81        28\n",
            "   talk.politics.mideast       1.00      0.90      0.95        20\n",
            "      talk.politics.misc       0.80      0.89      0.84        18\n",
            "      talk.religion.misc       0.60      0.25      0.35        24\n",
            "\n",
            "                accuracy                           0.82       400\n",
            "               macro avg       0.83      0.83      0.82       400\n",
            "            weighted avg       0.83      0.82      0.82       400\n",
            "\n"
          ]
        }
      ]
    },
    {
      "cell_type": "code",
      "source": [
        "# The sentiment analysis results\n",
        "print('\\nSentiment Analysis Results:')\n",
        "print(sentiment_category)"
      ],
      "metadata": {
        "colab": {
          "base_uri": "https://localhost:8080/"
        },
        "id": "0HRiBblwTMGu",
        "outputId": "f8311d1a-ddda-4274-f82a-21af019339dc"
      },
      "execution_count": null,
      "outputs": [
        {
          "output_type": "stream",
          "name": "stdout",
          "text": [
            "\n",
            "Sentiment Analysis Results:\n",
            "Sentiment                 negative  neutral  positive\n",
            "Labels                                               \n",
            "alt.atheism                   0.40     0.01      0.59\n",
            "comp.graphics                 0.10     0.03      0.87\n",
            "comp.os.ms-windows.misc       0.22     0.02      0.76\n",
            "comp.sys.ibm.pc.hardware      0.18     0.03      0.79\n",
            "comp.sys.mac.hardware         0.17     0.04      0.79\n",
            "comp.windows.x                0.21     0.02      0.77\n",
            "misc.forsale                  0.08     0.10      0.82\n",
            "rec.autos                     0.26     0.03      0.71\n",
            "rec.motorcycles               0.32     0.01      0.67\n",
            "rec.sport.baseball            0.25     0.03      0.72\n",
            "rec.sport.hockey              0.28     0.03      0.69\n",
            "sci.crypt                     0.22     0.02      0.76\n",
            "sci.electronics               0.13     0.06      0.81\n",
            "sci.med                       0.29     0.02      0.69\n",
            "sci.space                     0.28     0.05      0.67\n",
            "soc.religion.christian        0.28     0.01      0.71\n",
            "talk.politics.guns            0.65     0.05      0.30\n",
            "talk.politics.mideast         0.68     0.00      0.32\n",
            "talk.politics.misc            0.52     0.05      0.43\n",
            "talk.religion.misc            0.32     0.02      0.66\n"
          ]
        }
      ]
    },
    {
      "cell_type": "code",
      "source": [
        "# THANK YOU !!!"
      ],
      "metadata": {
        "id": "RJ0VmjzvTcIK"
      },
      "execution_count": null,
      "outputs": []
    }
  ]
}